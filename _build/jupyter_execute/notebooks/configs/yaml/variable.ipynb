{
 "cells": [
  {
   "cell_type": "markdown",
   "id": "fd27e152",
   "metadata": {},
   "source": [
    "# adf_variable_defaults.yaml\n",
    "\n",
    "Location for many plotting, unit, etc defualts for any/all CAM output variables\n",
    "\n",
    "```{Warning}\n",
    "Note:  Please do not modify this file unless you plan to push your changes back to the ADF repo.\n",
    "             \n",
    "If you would like to modify this file for your personal ADF runs then it is recommended to make a copy of this file, make modifications in that copy, and then point the ADF to it using the \"defaults_file\" config variable in the <a href=\"https://justin-richling.github.io/ADF-Tutorial/notebooks/configs/yaml/runtime.html#defaults-file\"><code class=\"docutils literal notranslate\"><span class=\"pre\">your_config_cam.yaml</span></code> (copy of config_cam_example.yaml)</a>.\n",
    "\n",
    "\n",
    "Example:\n",
    "--------\n",
    "\n",
    "From the ADF root directory\n",
    "\n",
    "    cp lib/adf_variable_defaults.yaml lib/my_variable_defaults.yaml\n",
    "\n",
    "```\n"
   ]
  },
  {
   "cell_type": "markdown",
   "id": "407c85b0-26de-4897-b68e-6a0930410e3a",
   "metadata": {},
   "source": [
    "# Configuring Variable Defaults"
   ]
  },
  {
   "cell_type": "markdown",
   "id": "7953c7dd-5f83-427c-b1ab-05fd1e5fb20e",
   "metadata": {},
   "source": [
    "## Variable Default Settings"
   ]
  },
  {
   "cell_type": "markdown",
   "id": "3c020f3b-405a-45ee-ac29-d2868bd1c301",
   "metadata": {},
   "source": [
    "### ADF Default Set\n",
    "\n",
    "<p>If you want to use the ADF default values you need to set <a href=\"https://justin-richling.github.io/ADF-Tutorial/notebooks/configs/yaml/runtime.html#use-defaults\"><code class=\"docutils literal notranslate\"><span class=\"pre\">use_defaults</span></code></a> in your copy of the config_yaml to true\n",
    "</p>"
   ]
  },
  {
   "cell_type": "markdown",
   "id": "56d2868a-705e-49ae-b31e-9b05263e19f7",
   "metadata": {},
   "source": [
    "### Custom Set\n",
    "\n",
    "<p>If you plan on using a modified file for your custom values you need to set <a href=\"https://justin-richling.github.io/ADF-Tutorial/notebooks/configs/yaml/runtime.html#use-defaults\"><code class=\"docutils literal notranslate\"><span class=\"pre\">use_defaults</span></code></a> in your copy of the config_yaml to false and set the path to the custom variable default file with <a href=\"https://justin-richling.github.io/ADF-Tutorial/notebooks/configs/yaml/runtime.html#defaults-file\"><code class=\"docutils literal notranslate\"><span class=\"pre\">defaults_file</span></code></a>\n",
    "</p>\n",
    "\n",
    "\n",
    "\n",
    "\n",
    "\n"
   ]
  },
  {
   "cell_type": "markdown",
   "id": "a599a3da-c10c-4662-bcd0-3f94855a5e14",
   "metadata": {},
   "source": [
    "```\n",
    "U:\n",
    "  colormap: \"Blues\"\n",
    "  contour_levels_range: [-10, 90, 5]\n",
    "  diff_colormap: \"BrBG\"\n",
    "  diff_contour_range: [-15, 15, 2]\n",
    "  scale_factor: 1\n",
    "  add_offset: 0\n",
    "  new_unit: \"ms$^{-1}$\"\n",
    "  mpl:\n",
    "    colorbar:\n",
    "      label : \"ms$^{-1}$\"\n",
    "  obs_file: \"U_ERA5_monthly_climo_197901-202112.nc\"\n",
    "  obs_name: \"ERA5\"\n",
    "  obs_var_name: \"U\"\n",
    "  vector_pair: \"V\"\n",
    "  vector_name: \"Wind\"\n",
    "  category: \"State\"\n",
    "```"
   ]
  },
  {
   "cell_type": "markdown",
   "id": "ce6c4285-516c-41e4-ba08-343458e0b9ab",
   "metadata": {},
   "source": [
    "These are the values that can be set for each variable. Non are required."
   ]
  }
 ],
 "metadata": {
  "kernelspec": {
   "display_name": "Python 3 (ipykernel)",
   "language": "python",
   "name": "python3"
  },
  "language_info": {
   "codemirror_mode": {
    "name": "ipython",
    "version": 3
   },
   "file_extension": ".py",
   "mimetype": "text/x-python",
   "name": "python",
   "nbconvert_exporter": "python",
   "pygments_lexer": "ipython3",
   "version": "3.9.12"
  }
 },
 "nbformat": 4,
 "nbformat_minor": 5
}