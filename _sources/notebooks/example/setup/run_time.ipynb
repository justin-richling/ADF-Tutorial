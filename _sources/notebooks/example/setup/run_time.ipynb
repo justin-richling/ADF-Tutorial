{
 "cells": [
  {
   "cell_type": "markdown",
   "id": "3df770cd-4e9c-4259-bc19-da45ef25e787",
   "metadata": {},
   "source": [
    "# Run-Time Yaml config_baseline_example.yaml"
   ]
  },
  {
   "cell_type": "code",
   "execution_count": null,
   "id": "e702c49b-5a2f-42d8-a272-72defd7a2ddc",
   "metadata": {},
   "outputs": [],
   "source": []
  }
 ],
 "metadata": {
  "kernelspec": {
   "display_name": "Python 3 (ipykernel)",
   "language": "python",
   "name": "python3"
  },
  "language_info": {
   "codemirror_mode": {
    "name": "ipython",
    "version": 3
   },
   "file_extension": ".py",
   "mimetype": "text/x-python",
   "name": "python",
   "nbconvert_exporter": "python",
   "pygments_lexer": "ipython3",
   "version": "3.9.12"
  }
 },
 "nbformat": 4,
 "nbformat_minor": 5
}
