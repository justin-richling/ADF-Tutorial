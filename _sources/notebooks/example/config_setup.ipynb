{
 "cells": [
  {
   "cell_type": "markdown",
   "id": "63fef4e1-07f7-481f-ab55-7180e8c916c8",
   "metadata": {},
   "source": [
    "# Configure \"Run-ime\" YAML File"
   ]
  },
  {
   "cell_type": "code",
   "execution_count": null,
   "id": "9bd3df70-1613-4a13-8307-a71d71b6f801",
   "metadata": {},
   "outputs": [],
   "source": []
  }
 ],
 "metadata": {
  "kernelspec": {
   "display_name": "Python 3 (ipykernel)",
   "language": "python",
   "name": "python3"
  },
  "language_info": {
   "codemirror_mode": {
    "name": "ipython",
    "version": 3
   },
   "file_extension": ".py",
   "mimetype": "text/x-python",
   "name": "python",
   "nbconvert_exporter": "python",
   "pygments_lexer": "ipython3",
   "version": "3.9.12"
  }
 },
 "nbformat": 4,
 "nbformat_minor": 5
}
