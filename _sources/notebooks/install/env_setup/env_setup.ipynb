{
 "cells": [
  {
   "cell_type": "markdown",
   "id": "4f52ca19-01ee-46dc-bcbe-0f3c61d6f03f",
   "metadata": {
    "tags": []
   },
   "source": [
    "# Environment Setup"
   ]
  },
  {
   "cell_type": "markdown",
   "id": "9cd004cb-ff5a-4a5f-84cc-865fa722fc74",
   "metadata": {
    "jp-MarkdownHeadingCollapsed": true,
    "tags": []
   },
   "source": [
    "### CISL Computers\n",
    "\n",
    "Setting up the ADF environment if on CISL (Cheyenne/Casper) machines\n",
    "* More info can be found in the README on the GitHub: https://github.com/NCAR/ADF#required-software-environment"
   ]
  },
  {
   "cell_type": "markdown",
   "id": "351f48f7-5c59-49f0-8726-324d64e8b6d6",
   "metadata": {},
   "source": [
    "<img class=\"object-fit:fill\" src=\"NCAR-Waves.jpeg\" width=60 height=60 />"
   ]
  },
  {
   "cell_type": "markdown",
   "id": "e93e29fd-b060-424f-9d1e-b18cc1c0089e",
   "metadata": {},
   "source": [
    "<img src=\"NCAR-Waves.jpeg\" width=60 height=60 />"
   ]
  },
  {
   "cell_type": "code",
   "execution_count": null,
   "id": "3bfc8e59-33b0-4050-94f3-edae7de7e35c",
   "metadata": {},
   "outputs": [],
   "source": []
  }
 ],
 "metadata": {
  "kernelspec": {
   "display_name": "NPL (conda)",
   "language": "python",
   "name": "npl-conda"
  },
  "language_info": {
   "codemirror_mode": {
    "name": "ipython",
    "version": 3
   },
   "file_extension": ".py",
   "mimetype": "text/x-python",
   "name": "python",
   "nbconvert_exporter": "python",
   "pygments_lexer": "ipython3",
   "version": "3.8.13"
  }
 },
 "nbformat": 4,
 "nbformat_minor": 5
}
