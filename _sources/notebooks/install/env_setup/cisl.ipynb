{
 "cells": [
  {
   "cell_type": "markdown",
   "id": "260b7d5f",
   "metadata": {},
   "source": [
    "# CISL Computers\n",
    "\n",
    "Setting up the ADF environment if on CISL (Cheyenne/Casper) machines\n",
    "* More info can be found in the README on the GitHub: https://github.com/NCAR/ADF#required-software-environment"
   ]
  },
  {
   "cell_type": "markdown",
   "id": "c79c2191-87d5-487e-ac6f-cf3b62b6eba3",
   "metadata": {},
   "source": []
  }
 ],
 "metadata": {
  "kernelspec": {
   "display_name": "Python 3 (ipykernel)",
   "language": "python",
   "name": "python3"
  },
  "language_info": {
   "codemirror_mode": {
    "name": "ipython",
    "version": 3
   },
   "file_extension": ".py",
   "mimetype": "text/x-python",
   "name": "python",
   "nbconvert_exporter": "python",
   "pygments_lexer": "ipython3",
   "version": "3.9.12"
  }
 },
 "nbformat": 4,
 "nbformat_minor": 5
}
