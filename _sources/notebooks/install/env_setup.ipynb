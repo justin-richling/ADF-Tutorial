{
 "cells": [
  {
   "cell_type": "markdown",
   "id": "a8c6b920",
   "metadata": {},
   "source": [
    "# Setting up Environment\n",
    "\n",
    "Instructions on how to build the necessary environment for running the ADF."
   ]
  },
  {
   "cell_type": "markdown",
   "id": "d5e2623e-defb-41b4-934f-efd3bca205ce",
   "metadata": {},
   "source": [
    "### CISL Computers\n",
    "\n",
    "Setting up the ADF environment if on CISL (Cheyenne/Casper) machines\n",
    "\n",
    "* More info can be found in the README on the GitHub: https://github.com/NCAR/ADF#required-software-environment"
   ]
  },
  {
   "cell_type": "markdown",
   "id": "7c7078f6-2bf6-492a-bbcf-0412e8caa79e",
   "metadata": {},
   "source": [
    "<img class=\"object-fit:fill\" src=\"NCAR-Waves.jpeg\" width=60 height=60 />"
   ]
  }
 ],
 "metadata": {
  "kernelspec": {
   "display_name": "Python 3 (ipykernel)",
   "language": "python",
   "name": "python3"
  },
  "language_info": {
   "codemirror_mode": {
    "name": "ipython",
    "version": 3
   },
   "file_extension": ".py",
   "mimetype": "text/x-python",
   "name": "python",
   "nbconvert_exporter": "python",
   "pygments_lexer": "ipython3",
   "version": "3.9.12"
  }
 },
 "nbformat": 4,
 "nbformat_minor": 5
}
