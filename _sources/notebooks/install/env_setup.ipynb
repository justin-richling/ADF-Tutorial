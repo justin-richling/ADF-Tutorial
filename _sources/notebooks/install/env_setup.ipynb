{
 "cells": [
  {
   "cell_type": "markdown",
   "id": "a8c6b920",
   "metadata": {},
   "source": [
    "# Setting up Environment\n",
    "\n",
    "Instructions on how to build the necessary environment for running the ADF."
   ]
  },
  {
   "cell_type": "markdown",
   "id": "d5e2623e-defb-41b4-934f-efd3bca205ce",
   "metadata": {},
   "source": [
    "### CISL Computers\n",
    "\n",
    "Setting up the ADF environment if on CISL (Cheyenne/Casper) machines\n",
    "\n",
    "* More info can be found in the README on the GitHub: https://github.com/NCAR/ADF#required-software-environment"
   ]
  },
  {
   "cell_type": "markdown",
   "id": "b44a7bc4-9d94-405b-b788-d29e739982de",
   "metadata": {},
   "source": [
    "### Loading Conda\n",
    "\n",
    "To make the ADF as flexible as possible, it is recommended that you run in a precompiled `conda` environment - `npl`\n",
    "\n",
    "`module load conda`\n",
    "\n",
    "<p class=\"pre\">* you may encounter a module load error, try unloading python and re-try?</p>"
   ]
  },
  {
   "cell_type": "markdown",
   "id": "d5bf7f86-76e6-4dbb-8524-45f8546bf0f9",
   "metadata": {},
   "source": [
    "<p><code class=\"docutils literal notranslate\"><span class=\"pre\">env_mach_pes.xml</span></code> == specifies layout of components</p>"
   ]
  },
  {
   "cell_type": "markdown",
   "id": "3fab4893-bee3-4f58-864b-19e107379bf1",
   "metadata": {},
   "source": [
    "<div class=\"waga-waga\"><p style=\"font-size: 40px; font-weight: bold;\">Woo</p></div>"
   ]
  },
  {
   "cell_type": "markdown",
   "id": "7c7078f6-2bf6-492a-bbcf-0412e8caa79e",
   "metadata": {},
   "source": [
    "<img class=\"object-fit:fill\" src=\"NCAR-Waves.jpeg\" width=60 height=60 />"
   ]
  },
  {
   "cell_type": "markdown",
   "id": "e2f7625a-468f-4d63-9a62-58440971e452",
   "metadata": {},
   "source": [
    "<div><p style=\"waka-waka\">Woo</p></div>"
   ]
  },
  {
   "cell_type": "code",
   "execution_count": null,
   "id": "ef6d25f5-43ae-4757-be08-e6a6b90c6f09",
   "metadata": {},
   "outputs": [],
   "source": []
  }
 ],
 "metadata": {
  "kernelspec": {
   "display_name": "Python 3 (ipykernel)",
   "language": "python",
   "name": "python3"
  },
  "language_info": {
   "codemirror_mode": {
    "name": "ipython",
    "version": 3
   },
   "file_extension": ".py",
   "mimetype": "text/x-python",
   "name": "python",
   "nbconvert_exporter": "python",
   "pygments_lexer": "ipython3",
   "version": "3.9.12"
  }
 },
 "nbformat": 4,
 "nbformat_minor": 5
}
