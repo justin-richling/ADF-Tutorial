{
 "cells": [
  {
   "cell_type": "markdown",
   "id": "a8c6b920",
   "metadata": {},
   "source": [
    "# Setting up Environment\n",
    "\n",
    "Instructions on how to build the necessary environment for running the ADF."
   ]
  },
  {
   "cell_type": "markdown",
   "id": "d5e2623e-defb-41b4-934f-efd3bca205ce",
   "metadata": {},
   "source": [
    "### CISL Computers\n",
    "\n",
    "Setting up the ADF environment if on CISL (Cheyenne/Casper) machines\n",
    "\n",
    "* More info can be found in the README on the GitHub: https://github.com/NCAR/ADF#required-software-environment"
   ]
  },
  {
   "cell_type": "markdown",
   "id": "b44a7bc4-9d94-405b-b788-d29e739982de",
   "metadata": {},
   "source": [
    "### Loading Conda\n",
    "\n",
    "To make the ADF as flexible as possible, it is recommended that you run in a precompiled `conda` environment - `npl`\n",
    "\n",
    "---\n",
    "\n",
    "<p>First load conda via <code class=\"docutils literal notranslate\"><span class=\"pre\">module</span></code> command</p>\n",
    "\n",
    "`module load conda`\n",
    "\n",
    "<p>* you may encounter a <code class=\"docutils literal notranslate\"><span class=\"pre\">module load</span></code> error, try unloading python and re-try? <code class=\"docutils literal notranslate\"><span class=\"pre\">module unload python</span></code></p>\n",
    "\n",
    "<p>In addition to conda package, the <code class=\"docutils literal notranslate\"><span class=\"pre\">ncrcat</span></code> NetCDF Operator (NCO) is needed</p>\n",
    "\n",
    "`module load nco`\n",
    "\n",
    "And if the CVDP is desired, NCL is also needed\n",
    "\n",
    "`module load ncl`\n",
    "\n",
    "That's it, all done. Wash up and go help with dinner"
   ]
  },
  {
   "cell_type": "markdown",
   "id": "bfd2b2e6-127a-4353-9d47-d7bc9de55895",
   "metadata": {},
   "source": [
    "<p class=\"admonition-title\">Tip</p>\n",
    "<p>Change your bed sheets every week</p>\n",
    "<p>Don't be gross</p>"
   ]
  },
  {
   "cell_type": "markdown",
   "id": "3fab4893-bee3-4f58-864b-19e107379bf1",
   "metadata": {},
   "source": [
    "<div class=\"waga-waga\"><p style=\"font-size: 25px; font-weight: bold; color: #076E85;\">Alright here we go</p></div>"
   ]
  },
  {
   "cell_type": "markdown",
   "id": "b36d546e-013f-4098-be87-5c3bc4249281",
   "metadata": {},
   "source": [
    "# Getting the ADF\n",
    "\n",
    "It is fairly straight forward to get the ADF. You will need to clone the [NCAR/ADF](https://github.com/NCAR/ADF) repository to your machine\n",
    "\n",
    "    \n",
    "<p>Navigate to some where you want to house the ADF root directory. An example would be to put the ADF in your <code class=\"docutils literal notranslate\"><span class=\"pre\">work</span></code> drive on <code class=\"docutils literal notranslate\"><span class=\"pre\">glade</span></code></p>\n",
    "\n",
    "\n",
    "<p style=\"font-size:12px;\"><code class=\"docutils literal notranslate\"><span class=\"pre\">cd /glade/work/{user}/</span></code></p>\n",
    "\n",
    "<p style=\"font-size:12px;\"><code class=\"docutils literal notranslate\"><span class=\"pre\">git clone https://github.com/NCAR/ADF.git</span></code></p>\n",
    "\n",
    "\n",
    "<p>This will create a new folder called <strong>ADF</strong> and will be the root directory.</p>\n",
    "\n",
    "\n",
    "<p style=\"font-size:12px;\"><code class=\"docutils literal notranslate\"><span class=\"pre\">/glade/work/{user}/ADF/</span></code></p>\n"
   ]
  },
  {
   "cell_type": "markdown",
   "id": "aab852ed-7a75-4adc-b802-6078a546f155",
   "metadata": {},
   "source": [
    "<h2>2. CESM XML files and CESM environment variables<a class=\"headerlink\" href=\"#cesm-xml-files-and-cesm-environment-variables\" title=\"Permalink to this heading\">#</a></h2>\n",
    "\n",
    "<p>CESM cases are customized, built and run largely through setting what CESM calls <strong>“environment variables”</strong>. These actually appear to the user as variables defined in xml files.</p>"
   ]
  },
  {
   "cell_type": "markdown",
   "id": "7c7078f6-2bf6-492a-bbcf-0412e8caa79e",
   "metadata": {},
   "source": [
    "<img class=\"object-fit:fill\" src=\"NCAR-Waves.jpeg\" width=60 height=60 />"
   ]
  },
  {
   "cell_type": "markdown",
   "id": "e2f7625a-468f-4d63-9a62-58440971e452",
   "metadata": {},
   "source": [
    "<p id=\"waka-waka\">Woo</p>"
   ]
  },
  {
   "cell_type": "markdown",
   "id": "d5a9fe0f-bd5a-470a-92b0-abe428f7db07",
   "metadata": {},
   "source": [
    "<div class=\"highlight-default notranslate\"><div class=\"highlight\"><pre id=\"codecell0\"><span></span>ssh –XY [username]@cheyenne.ucar.edu\n",
    "</pre><button class=\"copybtn o-tooltip--left\" data-tooltip=\"Copy\" data-clipboard-target=\"#codecell0\">\n",
    "      <svg xmlns=\"http://www.w3.org/2000/svg\" class=\"icon icon-tabler icon-tabler-copy\" width=\"44\" height=\"44\" viewBox=\"0 0 24 24\" stroke-width=\"1.5\" stroke=\"#000000\" fill=\"none\" stroke-linecap=\"round\" stroke-linejoin=\"round\">\n",
    "  <title>Copy to clipboard</title>\n",
    "  <path stroke=\"none\" d=\"M0 0h24v24H0z\" fill=\"none\"></path>\n",
    "  <rect x=\"8\" y=\"8\" width=\"12\" height=\"12\" rx=\"2\"></rect>\n",
    "  <path d=\"M16 8v-2a2 2 0 0 0 -2 -2h-8a2 2 0 0 0 -2 2v8a2 2 0 0 0 2 2h2\"></path>\n",
    "</svg>\n",
    "    </button></div>\n",
    "</div>"
   ]
  },
  {
   "cell_type": "code",
   "execution_count": null,
   "id": "1be77440-63b0-4a0a-85db-e30cce6b2b0f",
   "metadata": {},
   "outputs": [],
   "source": []
  }
 ],
 "metadata": {
  "kernelspec": {
   "display_name": "Python 3 (ipykernel)",
   "language": "python",
   "name": "python3"
  },
  "language_info": {
   "codemirror_mode": {
    "name": "ipython",
    "version": 3
   },
   "file_extension": ".py",
   "mimetype": "text/x-python",
   "name": "python",
   "nbconvert_exporter": "python",
   "pygments_lexer": "ipython3",
   "version": "3.9.12"
  }
 },
 "nbformat": 4,
 "nbformat_minor": 5
}
