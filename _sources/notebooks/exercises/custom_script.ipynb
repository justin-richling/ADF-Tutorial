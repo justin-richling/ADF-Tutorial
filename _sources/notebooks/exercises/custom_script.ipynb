{
 "cells": [
  {
   "cell_type": "markdown",
   "id": "2e0b3d10-dfe0-4622-ac4c-4eb6bdb04379",
   "metadata": {},
   "source": [
    "# Adding custom script to your ADF\n",
    "\n",
    "Since individual scientists like to look at specific diagnostics, not every script can be brought in to the ADF. A handy option for your ADF package could be implementing your own custom scripts. This may not be a trivial process, but hopefully this example will help if you want to add your own scripts to your ADF.\n",
    "\n",
    "This is not a required step if you have your own diagnostics, you could always keep them out of the ADF and run them post ADF. If this makes more sense, please see the ADF in Jupyter section.\n",
    "\n",
    "For this demo, we will be taking some transformed Eulerian mean (TEM) file creation and plotting scripts and adding it to the ADF infrastructure."
   ]
  },
  {
   "cell_type": "markdown",
   "id": "e1ef1e50-f954-415a-8f48-566d193ed7e1",
   "metadata": {},
   "source": [
    "TEM File Generation Script:"
   ]
  },
  {
   "cell_type": "code",
   "execution_count": null,
   "id": "40c324fd-e2ad-4314-a882-b543d775fa12",
   "metadata": {},
   "outputs": [],
   "source": []
  },
  {
   "cell_type": "markdown",
   "id": "f5ae09fd-67f7-41bf-bcdd-9830558f0c0b",
   "metadata": {},
   "source": [
    "TEM Plotting Script:"
   ]
  },
  {
   "cell_type": "code",
   "execution_count": null,
   "id": "4a0303d8-25ab-4b81-a3f8-d520fda548b5",
   "metadata": {},
   "outputs": [],
   "source": []
  }
 ],
 "metadata": {
  "kernelspec": {
   "display_name": "Python 3 (ipykernel)",
   "language": "python",
   "name": "python3"
  },
  "language_info": {
   "codemirror_mode": {
    "name": "ipython",
    "version": 3
   },
   "file_extension": ".py",
   "mimetype": "text/x-python",
   "name": "python",
   "nbconvert_exporter": "python",
   "pygments_lexer": "ipython3",
   "version": "3.9.12"
  }
 },
 "nbformat": 4,
 "nbformat_minor": 5
}
