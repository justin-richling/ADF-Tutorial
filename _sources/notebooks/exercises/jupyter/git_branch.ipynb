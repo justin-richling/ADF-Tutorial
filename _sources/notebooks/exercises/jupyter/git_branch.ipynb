{
 "cells": [
  {
   "cell_type": "markdown",
   "id": "ccba2d97-addb-4f1f-93b0-cad36e42e34c",
   "metadata": {},
   "source": [
    "# Choosing Different Git Branch"
   ]
  }
 ],
 "metadata": {
  "kernelspec": {
   "display_name": "Python 3 (ipykernel)",
   "language": "python",
   "name": "python3"
  },
  "language_info": {
   "codemirror_mode": {
    "name": "ipython",
    "version": 3
   },
   "file_extension": ".py",
   "mimetype": "text/x-python",
   "name": "python",
   "nbconvert_exporter": "python",
   "pygments_lexer": "ipython3",
   "version": "3.9.12"
  }
 },
 "nbformat": 4,
 "nbformat_minor": 5
}
