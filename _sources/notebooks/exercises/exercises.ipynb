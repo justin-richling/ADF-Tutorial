{
 "cells": [
  {
   "cell_type": "markdown",
   "id": "ea37c705-8b46-418d-897f-53ee045699dc",
   "metadata": {},
   "source": [
    "# Exercises\n",
    "\n",
    "Here are a couple exercises to get a different look at the ADF"
   ]
  },
  {
   "cell_type": "markdown",
   "id": "e3199076-db1b-487b-aa7e-88c17348bbd3",
   "metadata": {},
   "source": [
    "##### Exercise 1 - Plot Timeseries for RESTOM\n",
    "\n",
    "In this exercise you will try to run the ADF to make a single plot for time series data\n",
    "\n",
    "Objectives:\n",
    "* Produce only time series files (no climo or regridded files)\n",
    "* Produce RESTOM from standard CAM output variables\n",
    "* Plot only the time series plot (no default ADF plots or tables)"
   ]
  },
  {
   "cell_type": "code",
   "execution_count": null,
   "id": "610ab14a-b55b-48a4-9c73-7140c18c88de",
   "metadata": {},
   "outputs": [],
   "source": []
  }
 ],
 "metadata": {
  "kernelspec": {
   "display_name": "NPL-3.7.9",
   "language": "python",
   "name": "npl-3.7.9"
  },
  "language_info": {
   "codemirror_mode": {
    "name": "ipython",
    "version": 3
   },
   "file_extension": ".py",
   "mimetype": "text/x-python",
   "name": "python",
   "nbconvert_exporter": "python",
   "pygments_lexer": "ipython3",
   "version": "3.7.9"
  }
 },
 "nbformat": 4,
 "nbformat_minor": 5
}
