{
 "cells": [
  {
   "cell_type": "markdown",
   "id": "3f692f94-88eb-424d-8c01-7946d8ac09b8",
   "metadata": {},
   "source": [
    "# Exercises On Your Own!"
   ]
  },
  {
   "cell_type": "code",
   "execution_count": null,
   "id": "7e218fa7-ba34-456c-a5a0-3d15862565f4",
   "metadata": {},
   "outputs": [],
   "source": []
  }
 ],
 "metadata": {
  "kernelspec": {
   "display_name": "Python 3 (ipykernel)",
   "language": "python",
   "name": "python3"
  },
  "language_info": {
   "codemirror_mode": {
    "name": "ipython",
    "version": 3
   },
   "file_extension": ".py",
   "mimetype": "text/x-python",
   "name": "python",
   "nbconvert_exporter": "python",
   "pygments_lexer": "ipython3",
   "version": "3.9.12"
  }
 },
 "nbformat": 4,
 "nbformat_minor": 5
}
