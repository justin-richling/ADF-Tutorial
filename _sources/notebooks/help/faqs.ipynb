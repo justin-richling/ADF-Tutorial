{
 "cells": [
  {
   "cell_type": "markdown",
   "id": "5dc341ce-46d5-4837-b5c5-185678730bbe",
   "metadata": {},
   "source": [
    "# FAQS\n",
    "\n",
    "Frequently Asked Qestions\n",
    "\n",
    "\n",
    "### Re-Running the ADF\n",
    "What happens if I re-run the ADF after I change something?\n",
    "\n",
    "Well that really depends. So common problems are:\n",
    "\n",
    "- Plots don't change when they should be\n",
    "\n",
    "-> Is the website images staying the same, or are the actual local plots not changing?\n",
    "--> if you said only website images, than you need to delete the html files in website dir and re-run. We are working on having it do this automatically in the next version.\n",
    "\n",
    "- Regridded CAM vs Obs seems to freeze/takes forever\n",
    "-> this will definitely happen and is suggested to run on a compute node if on NCAR/CISL machines. Depending on the simulation case, it can take several hours, so beware!\n",
    "\n"
   ]
  }
 ],
 "metadata": {
  "kernelspec": {
   "display_name": "Python 3 (ipykernel)",
   "language": "python",
   "name": "python3"
  },
  "language_info": {
   "codemirror_mode": {
    "name": "ipython",
    "version": 3
   },
   "file_extension": ".py",
   "mimetype": "text/x-python",
   "name": "python",
   "nbconvert_exporter": "python",
   "pygments_lexer": "ipython3",
   "version": "3.9.12"
  }
 },
 "nbformat": 4,
 "nbformat_minor": 5
}
