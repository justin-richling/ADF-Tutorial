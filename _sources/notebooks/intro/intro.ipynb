{
 "cells": [
  {
   "cell_type": "markdown",
   "id": "f3fd4646-3312-4dda-8904-66ac9637f529",
   "metadata": {},
   "source": [
    "## ADF Basics\n",
    "\n",
    "Now that the ADF and environment have been set up, let's take just a quick look at what the ADF actually does and the flow of it. To run the ADF, there are just a couple of steps and then <abbr title=\"Famous last words\"><strong>it's good to go!</strong></abbr>\n"
   ]
  },
  {
   "cell_type": "markdown",
   "id": "a09de847-9766-4dc9-af18-b7b11a469640",
   "metadata": {},
   "source": [
    "### ADF Flow\n",
    "\n",
    "A simple look at the flow of the ADF"
   ]
  },
  {
   "cell_type": "markdown",
   "id": "4d9c5ac6-6f7b-4c07-9b5e-f9c15c69941e",
   "metadata": {},
   "source": [
    " &#x21B3; Create time series files from monthly history files (if they don’t exist or are being overwritten)\n",
    " - Create climatology files from either ADF generated or pre-existing time series files (ie CMIP)\n",
    " - Regrid Test case from Baseline case and vice-versa from climatology files\n",
    " - Run Analysis scripts\n",
    " - Run Plotting scripts\n",
    " - Generate Website pages\n",
    "\n",
    "\n",
    "** Most parts of the ADF are optional and can be turned off for your desired need:\n",
    "\n",
    "Potential Examples:\n",
    "           \n",
    "- If you only want regridded data, turn off plotting, analysis, website parts\n",
    "    \n",
    "- If you want plotting and only need a few plot images, you can turn off the website part\n",
    "    \n",
    "- If you only want time series files, you can turn off all other parts\n",
    "    \n",
    "- If you don’t care about the statistics (AMWG) tables, turn off analysis part\n",
    "    \n",
    "etc.\n",
    "\n"
   ]
  },
  {
   "cell_type": "markdown",
   "id": "1bf555ef-5e52-4bd9-87de-93df60595a55",
   "metadata": {},
   "source": [
    "<html>\n",
    "<style>\n",
    "ul2 {\n",
    "    list-style: none;\n",
    "    padding: 0px;\n",
    "}\n",
    "\n",
    "down-flow\n",
    "{\n",
    "    content: '\\2713';\n",
    "    margin: 0 1em;    /* any design */\n",
    "}\n",
    "</style>\n",
    "\n",
    "\n",
    "<ul>\n",
    "<li class=\"down-flow\">Time Series</li>\n",
    "<li class=\"down-flow\">Climotology</li>\n",
    "</ul>\n",
    "\n",
    "</html>"
   ]
  },
  {
   "cell_type": "markdown",
   "id": "4d73d5b2-6fff-425d-bcc5-9ad4e46e21aa",
   "metadata": {},
   "source": [
    "### ADF Setup\n",
    "\n",
    "A simple look at the flow of the ADF"
   ]
  },
  {
   "cell_type": "raw",
   "id": "f90b7283-2236-4411-b43c-2c2122b025c8",
   "metadata": {},
   "source": [
    "```\n",
    "<a>0.</a> Run CAM simulation to get history (ie: h0, h1, etc.) files\n",
    "                                   \n",
    "<a>1.</a> Configure yaml file(s) for the history files\n",
    "\n",
    "\tNOTE:  Make copies of these files and modify/customize the copies!\n",
    "\n",
    "    config_cam_baseline_example.yaml  (necessary, must copy and change!)\n",
    "\n",
    "    lib/adf_variable_defaults.yaml   (necessary, but optional to copy and change)\n",
    "\n",
    "\n",
    "<a>2.</a> Run the ADF\n",
    "&#x26A0; Errors?  Check config files   Check error/logs   Check data/paths</p>\n",
    "&#x2705; Success: Check output data/images</p>\n",
    "<p>Locally</p>\n",
    "<p>Via HTML files  (optional)</p>\n",
    "```"
   ]
  },
  {
   "cell_type": "markdown",
   "id": "425441d4-0a11-43d4-a64b-17084e9e5761",
   "metadata": {},
   "source": [
    "0. Run CAM simulation to get history ( h0* ) file(s) \n",
    "           *or other history files\n",
    "                                   \n",
    "1. Configure yaml file(s) for the history files\n",
    "\n",
    "\tNOTE:  Make copies of these files and modify/customize the copies!\n",
    "\n",
    "    config_cam_baseline_example.yaml  (necessary, must copy and change!)\n",
    "\n",
    "    lib/adf_variable_defaults.yaml   (necessary, but optional to copy and change)\n",
    "\n",
    "\n",
    "2. Run the ADF\n"
   ]
  },
  {
   "cell_type": "raw",
   "id": "928f7999-fa85-4d84-bdc0-945106ac840f",
   "metadata": {},
   "source": [
    "&#x26A0; Errors?  Check config files   Check error/logs   Check data/paths</p>\n",
    "&#x2705; Success: Check output data/images</p>\n",
    "<p>Locally</p>\n",
    "<p>Via HTML files  (optional)</p>\n"
   ]
  },
  {
   "cell_type": "code",
   "execution_count": null,
   "id": "21cf1d8c-6473-4e37-ba3c-94a172b9e838",
   "metadata": {},
   "outputs": [],
   "source": []
  },
  {
   "cell_type": "raw",
   "id": "b18ebf08-45dd-483a-8663-7c0cfb30f138",
   "metadata": {},
   "source": [
    "<p>&#x26A0; Errors?  Check config files   Check error/logs   Check data/paths</p>"
   ]
  },
  {
   "cell_type": "raw",
   "id": "ad428d2a-0ac6-44a9-a232-f953ceaa0065",
   "metadata": {},
   "source": [
    "```{added}\n",
    "OMG!\n",
    "```"
   ]
  },
  {
   "cell_type": "raw",
   "id": "b433cb86-e967-46d8-addc-f9ee99aad0d5",
   "metadata": {},
   "source": [
    "```{success}\n",
    "OMG!\n",
    "```"
   ]
  },
  {
   "cell_type": "raw",
   "id": "e01a3db9-ed07-4835-b030-345206b18e24",
   "metadata": {},
   "source": [
    "```html\n",
    "<div class=\"admonition note\" name=\"html-admonition\" style=\"background: red; padding: 10px\">\n",
    "<p class=\"title\">Error</p>\n",
    "Check config files\n",
    "Check error/logs\n",
    "Check data/paths\n",
    "</div>\n",
    "```"
   ]
  },
  {
   "cell_type": "raw",
   "id": "0ca3649a-9acd-4d83-a2aa-df7dc6f5d9c8",
   "metadata": {},
   "source": [
    "\n",
    "<div class=\"admonition note\" name=\"html-admonition\" style=\"background: lightgreen; padding: 10px\">\n",
    "<p class=\"title\">Success</p>\n",
    "Check output data/images\n",
    "</div>"
   ]
  },
  {
   "cell_type": "code",
   "execution_count": null,
   "id": "18771d94-e470-442c-b262-0347890b3e7b",
   "metadata": {},
   "outputs": [],
   "source": []
  },
  {
   "cell_type": "markdown",
   "id": "04e47fe5-38ff-494e-8204-654272a31460",
   "metadata": {},
   "source": [
    "# ADF Layout\n",
    "\n",
    "A simple look at the structure of the ADF directories"
   ]
  },
  {
   "cell_type": "markdown",
   "id": "7ec20b73-c667-4081-a554-22f3ea6db5c9",
   "metadata": {},
   "source": [
    "```\n",
    ".\n",
    "|-- config_amwg_default_plots.yaml\n",
    "|-- config_cam_baseline_example.yaml\n",
    "|-- env\n",
    "|   `-- conda_environment.yaml\n",
    "|-- jupyter_sample.ipynb\n",
    "|-- lib\n",
    "|   |-- adf_base.py\n",
    "|   |-- adf_config.py\n",
    "|   |-- adf_diag.py\n",
    "|   |-- adf_info.py\n",
    "|   |-- adf_obs.py\n",
    "|   |-- adf_variable_defaults.yaml\n",
    "|   |-- adf_web.py\n",
    "|   |-- plotting_functions.py\n",
    "|   |-- test\n",
    "|   |   |-- pylintrc\n",
    "|   |   `-- unit_tests\n",
    "|   |       |-- pytest.ini\n",
    "|   |       |-- test_adf_base.py\n",
    "|   |       |-- test_adf_config.py\n",
    "|   |       `-- test_files\n",
    "|   |           |-- config_cam_double_nested.yaml\n",
    "|   |           |-- config_cam_keywords.yaml\n",
    "|   |           `-- config_cam_unset_var.yaml\n",
    "|   `-- website_templates\n",
    "|       |-- adf_diag.css\n",
    "|       |-- NCAR.gif\n",
    "|       |-- template.html\n",
    "|       |-- template_index.html\n",
    "|       |-- template_mean_diag.html\n",
    "|       |-- template_mean_tables.html\n",
    "|       |-- template_multi_case_index.html\n",
    "|       |-- template_table.html\n",
    "|       `-- template_var.html\n",
    "|-- LICENSE\n",
    "|-- README.md\n",
    "|-- run_adf_diag\n",
    "`-- scripts\n",
    "    |-- analysis\n",
    "    |   `-- amwg_table.py\n",
    "    |-- averaging\n",
    "    |   `-- create_climo_files.py\n",
    "    |-- plotting\n",
    "    |   |-- cam_taylor_diagram.py\n",
    "    |   |-- global_latlon_map.py\n",
    "    |   |-- global_latlon_vect_map.py\n",
    "    |   |-- meridional_mean.py\n",
    "    |   |-- polar_map.py\n",
    "    |   |-- qbo.py\n",
    "    |   |-- regional_map_multicase.py\n",
    "    |   `-- zonal_mean.py\n",
    "    `-- regridding\n",
    "        `-- regrid_and_vert_interp.py\n",
    "```"
   ]
  }
 ],
 "metadata": {
  "kernelspec": {
   "display_name": "Python 3 (ipykernel)",
   "language": "python",
   "name": "python3"
  },
  "language_info": {
   "codemirror_mode": {
    "name": "ipython",
    "version": 3
   },
   "file_extension": ".py",
   "mimetype": "text/x-python",
   "name": "python",
   "nbconvert_exporter": "python",
   "pygments_lexer": "ipython3",
   "version": "3.9.12"
  }
 },
 "nbformat": 4,
 "nbformat_minor": 5
}
