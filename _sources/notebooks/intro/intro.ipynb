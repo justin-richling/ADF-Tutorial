{
 "cells": [
  {
   "cell_type": "markdown",
   "id": "f3fd4646-3312-4dda-8904-66ac9637f529",
   "metadata": {},
   "source": [
    "## ADF Basics"
   ]
  },
  {
   "cell_type": "markdown",
   "id": "cfe7c6ed-f1d4-4c0f-8bdb-560a9f4a8083",
   "metadata": {},
   "source": [
    "### ADF Layout\n",
    "\n",
    "Directory tree for the ADF "
   ]
  },
  {
   "cell_type": "markdown",
   "id": "d1f63130-53a9-4434-ae52-0077f0a55684",
   "metadata": {},
   "source": [
    "![Running on Cheyenne Image](../../images/adf_tree_layout.png)"
   ]
  },
  {
   "cell_type": "markdown",
   "id": "a09de847-9766-4dc9-af18-b7b11a469640",
   "metadata": {},
   "source": [
    "### ADF Flow\n",
    "\n",
    "A simple look at the flow of the ADF"
   ]
  },
  {
   "cell_type": "markdown",
   "id": "4d9c5ac6-6f7b-4c07-9b5e-f9c15c69941e",
   "metadata": {},
   "source": [
    " - Create time series files from monthly history files (if they don’t exist or are being overwritten)\n",
    " - Create climatology files from either ADF generated or pre-existing time series files (ie CMIP)\n",
    " - Regrid Test case from Baseline case and vice-versa from climatology files\n",
    " - Run Analysis scripts\n",
    " - Run Plotting scripts\n",
    " - Generate Website pages\n",
    "\n",
    "\n",
    "** Most parts of the ADF are optional and can be turned off for your desired need:\n",
    "           Potential Examples:\n",
    "           \n",
    "\tIf you only want regridded data, turn off plotting, analysis, website parts\n",
    "    \n",
    "\tIf you want plotting and only need a few plot images, you can turn off the website part\n",
    "    \n",
    "\tIf you only want time series files, you can turn off all other parts\n",
    "    \n",
    "\tIf you don’t care about the statistics (AMWG) tables, turn off analysis part\n",
    "    \n",
    "\tetc.\n",
    "\n",
    "NOTE: depending on how many years, plot types and variables you configure, the more time it takes\n",
    "\t* Rough average for: all default plots, 10-20 years for 30 variables is ~45 minutes\n",
    "\t      !! But could take longer !! \n",
    "\t* This is an active area of development      there are potential ways of cutting time/processes\n",
    "    \n",
    "```{warning}\n",
    "Depending on how many years, plot types and variables you configure, the more time it takes\n",
    "\n",
    "* Rough average for all default plots, 10-20 years for 30 variables is ~45 minutes\n",
    "\n",
    ":::{note}\n",
    "This is an active area of development; there are potential ways of cutting time/processes\n",
    ":::\n",
    "\n",
    "```"
   ]
  },
  {
   "cell_type": "markdown",
   "id": "4d73d5b2-6fff-425d-bcc5-9ad4e46e21aa",
   "metadata": {},
   "source": [
    "### ADF Setup\n",
    "\n",
    "A simple look at the flow of the ADF"
   ]
  },
  {
   "cell_type": "markdown",
   "id": "52bb98db-17ef-4196-b99f-3a0865d3aaff",
   "metadata": {},
   "source": [
    "0. Run CAM simulation          get history ( h0* ) file(s) \n",
    "           *or other history files\n",
    "                                   \n",
    "1. Configure yaml file(s) for the history files\n",
    "\tNOTE:  Make copies of these files and modify/customize the copies!\n",
    "\n",
    "    config_cam_baseline_example.yaml  (necessary, must change!)\n",
    "\n",
    "    lib/adf_variable_defaults.yaml   (necessary, but optional to change)**\n",
    "       \n",
    "         ** Additionally, you will need to change the defaults_file path in your copy of config_cam_baseline_example.yaml file\n",
    "<p></p>\n",
    "2. Run the ADF\n",
    "Errors?  Check config files   Check error/logs   Check data/paths\n",
    "Success: Check output data/images\n",
    "Locally\n",
    "Via HTML files  (optional)\n"
   ]
  },
  {
   "cell_type": "code",
   "execution_count": null,
   "id": "cd8dbd24-850e-4c7d-9b67-e4a718d281d8",
   "metadata": {},
   "outputs": [],
   "source": []
  }
 ],
 "metadata": {
  "kernelspec": {
   "display_name": "Python 3 (ipykernel)",
   "language": "python",
   "name": "python3"
  },
  "language_info": {
   "codemirror_mode": {
    "name": "ipython",
    "version": 3
   },
   "file_extension": ".py",
   "mimetype": "text/x-python",
   "name": "python",
   "nbconvert_exporter": "python",
   "pygments_lexer": "ipython3",
   "version": "3.9.12"
  }
 },
 "nbformat": 4,
 "nbformat_minor": 5
}
