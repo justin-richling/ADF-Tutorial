{
 "cells": [
  {
   "cell_type": "markdown",
   "id": "ed547bc6-1cc5-45ea-b882-a779f3e507b0",
   "metadata": {},
   "source": [
    "# YAML Config Files\n",
    "\n",
    "The ADF requires 2 different yaml configuration files: \n",
    "\n",
    "`config_cam_baseline_example.yaml` and `adf_variable_defaults.yaml`\n",
    "\n",
    "If yaml files are new to you, they are just specialized text files that python (and other languages) can read in and use as configuration files. \n",
    "\n",
    "\n",
    "\n",
    "\n",
    "In the case of the ADF, the variables set in the yaml files will be parsed into Python dictionaries and will accessable throughout the ADF workflow.\n",
    "\n",
    "A couple of notes about using the ADF yaml files:\n",
    "\n",
    "V\n"
   ]
  }
 ],
 "metadata": {
  "kernelspec": {
   "display_name": "Python 3 (ipykernel)",
   "language": "python",
   "name": "python3"
  },
  "language_info": {
   "codemirror_mode": {
    "name": "ipython",
    "version": 3
   },
   "file_extension": ".py",
   "mimetype": "text/x-python",
   "name": "python",
   "nbconvert_exporter": "python",
   "pygments_lexer": "ipython3",
   "version": "3.9.12"
  }
 },
 "nbformat": 4,
 "nbformat_minor": 5
}
