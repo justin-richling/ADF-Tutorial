{
 "cells": [
  {
   "cell_type": "markdown",
   "id": "d88a8f2e-7cc7-4664-88b8-aaf7d1a0a555",
   "metadata": {
    "tags": []
   },
   "source": [
    "# ADF in Jupyter\n",
    "\n",
    "Now that we have seen how to run the ADF via terminal, let's take a look at how to run the ADF through Jupyter.\n",
    "\n",
    "### Why Jupyter?\n",
    "\n",
    "If you are looking to use the ADF in a more developmental or interactive way, using Jupyter will offer a lot more flexibility than running through the terminal.\n",
    "\n",
    "One major advantage of this way fo running the ADF will allow the user to immediately have access to output data in a Jupyter notebook which can allow for further development or use of diagnostics that aren't in the ADF by defualt.\n",
    "\n",
    "One scenario to highlight tthis flexibility could be for tuning specific parameters of your model run that need  a specifi diagnostics set of tools that maybe only good for this tune. Now the user can build custom diagnostics code within the same Jupyter notebook that the ADF was run in!\n",
    "\n",
    "Let's take a quick look at an example:\n",
    "\n",
    "\n",
    "### Step 1: Run ADF\n",
    "\n",
    "This will simulate running the ADF in the terminal, so nothing will be different here\n",
    "\n",
    "### Step 2: Analyze ADF Output\n",
    "\n",
    "Once the ADF has completed (either here in Jupyter or preiously from terminal run) we can use the `adf` object to gain access to everything available in the ADF. This could be very useful if you want to develop diagsnostics separate from the ADF in a Jupyter Notebook"
   ]
  },
  {
   "cell_type": "code",
   "execution_count": null,
   "id": "9793b302-4467-44b6-9b10-d95c3a497c9a",
   "metadata": {},
   "outputs": [],
   "source": []
  },
  {
   "cell_type": "code",
   "execution_count": null,
   "id": "3a4bda64-9dce-45f2-82bf-284d66786d43",
   "metadata": {},
   "outputs": [],
   "source": []
  },
  {
   "cell_type": "code",
   "execution_count": null,
   "id": "f1f2de7d-daa5-4fd5-93f2-0e4bb49287bc",
   "metadata": {},
   "outputs": [],
   "source": []
  },
  {
   "cell_type": "code",
   "execution_count": null,
   "id": "e368ee30-90e1-4fcc-8d59-7ef7bbdebf3f",
   "metadata": {},
   "outputs": [],
   "source": []
  },
  {
   "cell_type": "code",
   "execution_count": null,
   "id": "75d8036a-7ac3-4ccc-942b-5f176f66c4be",
   "metadata": {},
   "outputs": [],
   "source": []
  },
  {
   "cell_type": "markdown",
   "id": "3f398e2d-e281-4f18-a24b-0b23109da5b6",
   "metadata": {},
   "source": [
    "<html>\n",
    "   <body>\n",
    "      <h3> Using the <em> download attribute of a tag </em> to create file download button using JavaScript. </h3>\n",
    "      <p> Click the below button to download this Jupyter Notebook</p>\n",
    "      <a href = \"notebooks/basic_examples/run/jupyter.ipynb\"\n",
    "      Download = \"test_image\">\n",
    "         <button type = \"button\"> Download </button>\n",
    "      </a>\n",
    "   </body>\n",
    "</html>"
   ]
  },
  {
   "cell_type": "code",
   "execution_count": 15,
   "id": "98d13334-1c5f-4faf-9027-0069b8d7582c",
   "metadata": {},
   "outputs": [],
   "source": [
    "%matplotlib inline\n",
    "\n",
    "import os.path\n",
    "from pathlib import Path\n",
    "import sys"
   ]
  },
  {
   "cell_type": "code",
   "execution_count": 16,
   "id": "90403315-d11e-4f22-9158-481b4cf7ae14",
   "metadata": {},
   "outputs": [],
   "source": [
    "# Determine ADF directory path\n",
    "# If it is in your cwd, set adf_path = local_path, \n",
    "# otherwise set adf_path appropriately\n",
    "\n",
    "local_path = os.path.abspath('')"
   ]
  },
  {
   "cell_type": "code",
   "execution_count": 17,
   "id": "8e0b805b-c12e-4e8a-a80c-16ea535994ab",
   "metadata": {},
   "outputs": [
    {
     "name": "stdout",
     "output_type": "stream",
     "text": [
      "current working directory = /glade/work/richling/ADF/adf-demo/notebooks/basic_examples\n",
      "ADF path                  = /glade/work/richling/ADF/ADF/\n"
     ]
    }
   ],
   "source": [
    "#adf_path = \"/glade/work/{user}/ADF\" # <-- uncomment and use your username\n",
    "adf_path = \"/glade/work/richling/ADF/ADF/\" # <-- then comment out\n",
    "\n",
    "print(f\"current working directory = {local_path}\")\n",
    "print(f\"ADF path                  = {adf_path}\")"
   ]
  },
  {
   "cell_type": "code",
   "execution_count": 18,
   "id": "aca1da90-a5ea-45f4-bb59-f81f256249b5",
   "metadata": {},
   "outputs": [
    {
     "name": "stdout",
     "output_type": "stream",
     "text": [
      "The lib scripts live here, right? /glade/work/richling/ADF/ADF/lib\n",
      "The plotting scripts live here, right? /glade/work/richling/ADF/ADF/scripts/plotting\n"
     ]
    }
   ],
   "source": [
    "#set path to ADF lib\n",
    "lib_path = os.path.join(adf_path,\"lib\")\n",
    "print(f\"The lib scripts live here, right? {lib_path}\")\n",
    "\n",
    "#set path to ADF plotting scripts directory\n",
    "plotting_scripts_path = os.path.join(adf_path,\"scripts\",\"plotting\")\n",
    "print(f\"The plotting scripts live here, right? {plotting_scripts_path}\")\n",
    "\n",
    "#Add paths to python path:\n",
    "sys.path.append(lib_path)\n",
    "sys.path.append(plotting_scripts_path)"
   ]
  },
  {
   "cell_type": "code",
   "execution_count": 19,
   "id": "68ecdbc8-8d1d-48c8-83e6-1f16b334068b",
   "metadata": {},
   "outputs": [],
   "source": [
    "#import ADF diagnostics object\n",
    "from adf_diag import AdfDiag\n",
    "\n",
    "# If this fails, check your paths output in the cells above,\n",
    "# and that you are running the NPL (conda) Kernel\n",
    "# You can see all the paths being examined by un-commenting the following:\n",
    "#sys.path"
   ]
  },
  {
   "cell_type": "markdown",
   "id": "85b66af4-694d-4ee5-be1f-99d2671d0377",
   "metadata": {},
   "source": [
    "### Single CAM vs CAM case\n",
    "---"
   ]
  },
  {
   "cell_type": "code",
   "execution_count": 20,
   "id": "6ca43a0e-b22e-42c0-ba66-72e92699c84a",
   "metadata": {},
   "outputs": [],
   "source": [
    "# Set path for config YAML file\n",
    "#config_path = \"/path/to/your/yaml/file/\"\n",
    "config_path = \"/glade/work/richling/ADF/adf-demo/config_files/\"\n",
    "\n",
    "# Set name of config YAML file:\n",
    "config_fil_str = \"config_single_model_vs_model.yaml\"\n",
    "\n",
    "# Make full path to config file\n",
    "config_file=os.path.join(config_path,config_fil_str)"
   ]
  },
  {
   "cell_type": "code",
   "execution_count": 21,
   "id": "a7296af2-e7d2-44f4-83ec-87da1831c7ea",
   "metadata": {},
   "outputs": [
    {
     "data": {
      "text/plain": [
       "<adf_diag.AdfDiag at 0x14eff8896670>"
      ]
     },
     "execution_count": 21,
     "metadata": {},
     "output_type": "execute_result"
    }
   ],
   "source": [
    "#Initialize ADF object with config file\n",
    "adf = AdfDiag(config_file)\n",
    "adf"
   ]
  },
  {
   "cell_type": "markdown",
   "id": "d3539201-f040-4016-9044-499c7e6cfd08",
   "metadata": {},
   "source": [
    "#### First part of ADF is to create time series files\n",
    "    \n",
    "    * if they don't already exist or input files are in time series format already\n",
    "    \n",
    "##### This is under the hood when the ADF is run via terminal"
   ]
  },
  {
   "cell_type": "markdown",
   "id": "6b552f4c-ab32-4d66-bcc2-88bd7653c6dd",
   "metadata": {},
   "source": [
    "<h4>Create Time Series Files</h4>\n",
    "\n",
    "Create model time series"
   ]
  },
  {
   "cell_type": "code",
   "execution_count": null,
   "id": "d422e18a-3c68-42fc-80f8-e2b0b1cc4bbb",
   "metadata": {},
   "outputs": [],
   "source": [
    "%%time\n",
    "adf.create_time_series()"
   ]
  },
  {
   "cell_type": "markdown",
   "id": "58ef4b9c-146b-44ce-bdcf-9091531ac55e",
   "metadata": {},
   "source": [
    "Output:"
   ]
  },
  {
   "cell_type": "markdown",
   "id": "cf63a7fd-5868-44de-ac26-3844a5e1412f",
   "metadata": {},
   "source": [
    "      Generating CAM time series files...\n",
    "         Processing time series for case 'f.cam6_3_106.FLTHIST_v0a.ne30.dcs_effgw_rdg.001' :\n",
    "         - time series for FLNT\n",
    "         - time series for FSNT\n",
    "         - time series for LWCF\n",
    "         - time series for PBLH\n",
    "         - time series for PS\n",
    "         - time series for PSL\n",
    "         - time series for Q\n",
    "    Adding PS to file\n",
    "         - time series for RELHUM\n",
    "    Adding PS to file\n",
    "         - time series for SST\n",
    "         - time series for SWCF\n",
    "         - time series for T\n",
    "    Adding PS to file\n",
    "         - time series for TS\n",
    "         - time series for U\n",
    "    Adding PS to file\n",
    "         - time series for OCNFRAC\n",
    "      ...CAM time series file generation has finished successfully.\n",
    "    CPU times: user 1.03 s, sys: 192 ms, total: 1.22 s\n",
    "    Wall time: 15.6 s"
   ]
  },
  {
   "cell_type": "code",
   "execution_count": null,
   "id": "b47b7e68-5573-445c-831e-c8bcfe11e815",
   "metadata": {},
   "outputs": [],
   "source": [
    "%%time\n",
    "#Create model baseline time series (if needed):\n",
    "\n",
    "# Since we are doing model vs model\n",
    "if not adf.compare_obs:\n",
    "    adf.create_time_series(baseline=True)"
   ]
  },
  {
   "cell_type": "markdown",
   "id": "e45ad6f7-0e33-4c1e-aa6c-39d4bd4d70d4",
   "metadata": {},
   "source": [
    "Output:"
   ]
  },
  {
   "cell_type": "markdown",
   "id": "d78f90e2-81ec-415e-b54b-57a551c6c7f2",
   "metadata": {},
   "source": [
    "      Generating CAM time series files...\n",
    "         Processing time series for case 'f.cam6_3_106.FLTHIST_v0a.ne30.dcs_non-ogw.001' :\n",
    "         - time series for FLNT\n",
    "         - time series for FSNT\n",
    "         - time series for LWCF\n",
    "         - time series for PBLH\n",
    "         - time series for PS\n",
    "         - time series for PSL\n",
    "         - time series for Q\n",
    "    Adding PS to file\n",
    "         - time series for RELHUM\n",
    "    Adding PS to file\n",
    "         - time series for SST\n",
    "         - time series for SWCF\n",
    "         - time series for T\n",
    "    Adding PS to file\n",
    "         - time series for TS\n",
    "         - time series for U\n",
    "    Adding PS to file\n",
    "         - time series for OCNFRAC\n",
    "      ...CAM time series file generation has finished successfully.\n",
    "    CPU times: user 103 ms, sys: 82.2 ms, total: 185 ms\n",
    "    Wall time: 14.6 s"
   ]
  },
  {
   "cell_type": "markdown",
   "id": "32926e0d-0715-415e-aed3-ff4bd0a1a00f",
   "metadata": {},
   "source": [
    "<h4>Create Climo Files</h4>\n",
    "\n",
    "This will run the creation of both test and baseline cases"
   ]
  },
  {
   "cell_type": "code",
   "execution_count": null,
   "id": "d8fe9422-9f5b-4228-9123-e94f6397a600",
   "metadata": {},
   "outputs": [],
   "source": [
    "%%time\n",
    "#Create model climatology (climo) files.\n",
    "adf.create_climo()"
   ]
  },
  {
   "cell_type": "markdown",
   "id": "e036b2f5-5182-4580-921e-eea39adcb6ff",
   "metadata": {},
   "source": [
    "Output:"
   ]
  },
  {
   "cell_type": "markdown",
   "id": "0ce0aeb4-ee22-4a11-944c-f6dd82a3b6ad",
   "metadata": {},
   "source": [
    "      Calculating CAM climatologies...\n",
    "         Calculating climatologies for case 'f.cam6_3_106.FLTHIST_v0a.ne30.dcs_effgw_rdg.001' :\n",
    "         Calculating climatologies for case 'f.cam6_3_106.FLTHIST_v0a.ne30.dcs_non-ogw.001' :\n",
    "            /glade/scratch/richling/ADF/output/climos/f.cam6_3_106.FLTHIST_v0a.ne30.dcs_non-ogw.001 not found, making new directory\n",
    "      ...CAM climatologies have been calculated successfully.\n",
    "    CPU times: user 217 ms, sys: 113 ms, total: 330 ms\n",
    "    Wall time: 2min 3s"
   ]
  },
  {
   "cell_type": "markdown",
   "id": "acc6e9d6-03d8-446b-9659-87670874a660",
   "metadata": {},
   "source": [
    "<h4>Regrdding Climo Files</h4>\n",
    "\n",
    "Regrid model climatology files to match either observations or CAM baseline climatologies.\n",
    "\n",
    "This call uses the `regridding_scripts` specified in the run-time config file"
   ]
  },
  {
   "cell_type": "code",
   "execution_count": null,
   "id": "6816e9c2-2c4a-4320-bf6a-32c5ed50695b",
   "metadata": {},
   "outputs": [],
   "source": []
  },
  {
   "cell_type": "code",
   "execution_count": null,
   "id": "15565a68-8056-4815-a898-c2fff9a54fcb",
   "metadata": {},
   "outputs": [],
   "source": []
  },
  {
   "cell_type": "code",
   "execution_count": null,
   "id": "b1755547-b9f7-4e79-8af0-f8a7c24eb818",
   "metadata": {},
   "outputs": [],
   "source": [
    "%%time\n",
    "adf.regrid_climo()"
   ]
  },
  {
   "cell_type": "markdown",
   "id": "07f208c0-b879-42ce-8315-a812ed3a56de",
   "metadata": {},
   "source": [
    "Output:"
   ]
  },
  {
   "cell_type": "markdown",
   "id": "2d6d4025-60fe-420b-b70d-8e39de4c9080",
   "metadata": {},
   "source": [
    "      Regridding CAM climatologies...\n",
    "         Regridding case 'f.cam6_3_106.FLTHIST_v0a.ne30.dcs_effgw_rdg.001' :\n",
    "         - regridding PS (known targets: ['f.cam6_3_106.FLTHIST_v0a.ne30.dcs_non-ogw.001'])\n",
    "         - regridding OCNFRAC (known targets: ['f.cam6_3_106.FLTHIST_v0a.ne30.dcs_non-ogw.001'])\n",
    "         - regridding FLNT (known targets: ['f.cam6_3_106.FLTHIST_v0a.ne30.dcs_non-ogw.001'])\n",
    "         - regridding FSNT (known targets: ['f.cam6_3_106.FLTHIST_v0a.ne30.dcs_non-ogw.001'])\n",
    "         - regridding LWCF (known targets: ['f.cam6_3_106.FLTHIST_v0a.ne30.dcs_non-ogw.001'])\n",
    "         - regridding PBLH (known targets: ['f.cam6_3_106.FLTHIST_v0a.ne30.dcs_non-ogw.001'])\n",
    "         - regridding PSL (known targets: ['f.cam6_3_106.FLTHIST_v0a.ne30.dcs_non-ogw.001'])\n",
    "         - regridding Q (known targets: ['f.cam6_3_106.FLTHIST_v0a.ne30.dcs_non-ogw.001'])\n",
    "    Please ignore the interpolation warnings that follow!\n",
    "    Interpolation point out of data bounds encountered\n",
    "    Interpolation point out of data bounds encountered\n",
    "    Please ignore the interpolation warnings that follow!\n",
    "    Interpolation point out of data bounds encountered\n",
    "    Interpolation point out of data bounds encountered\n",
    "         - regridding RELHUM (known targets: ['f.cam6_3_106.FLTHIST_v0a.ne30.dcs_non-ogw.001'])\n",
    "    Please ignore the interpolation warnings that follow!\n",
    "    Interpolation point out of data bounds encountered\n",
    "    Interpolation point out of data bounds encountered\n",
    "    Please ignore the interpolation warnings that follow!\n",
    "    Interpolation point out of data bounds encountered\n",
    "    Interpolation point out of data bounds encountered\n",
    "         - regridding SST (known targets: ['f.cam6_3_106.FLTHIST_v0a.ne30.dcs_non-ogw.001'])\n",
    "         - regridding SWCF (known targets: ['f.cam6_3_106.FLTHIST_v0a.ne30.dcs_non-ogw.001'])\n",
    "         - regridding T (known targets: ['f.cam6_3_106.FLTHIST_v0a.ne30.dcs_non-ogw.001'])\n",
    "    Please ignore the interpolation warnings that follow!\n",
    "    Interpolation point out of data bounds encountered\n",
    "    Interpolation point out of data bounds encountered\n",
    "    Please ignore the interpolation warnings that follow!\n",
    "    Interpolation point out of data bounds encountered\n",
    "    Interpolation point out of data bounds encountered\n",
    "         - regridding TS (known targets: ['f.cam6_3_106.FLTHIST_v0a.ne30.dcs_non-ogw.001'])\n",
    "         - regridding U (known targets: ['f.cam6_3_106.FLTHIST_v0a.ne30.dcs_non-ogw.001'])\n",
    "    Please ignore the interpolation warnings that follow!\n",
    "    Interpolation point out of data bounds encountered\n",
    "    Interpolation point out of data bounds encountered\n",
    "    Please ignore the interpolation warnings that follow!\n",
    "    Interpolation point out of data bounds encountered\n",
    "    Interpolation point out of data bounds encountered\n",
    "      ...CAM climatologies have been regridded successfully.\n",
    "    CPU times: user 58 s, sys: 6.6 s, total: 1min 4s\n",
    "    Wall time: 1min 11s"
   ]
  },
  {
   "cell_type": "code",
   "execution_count": null,
   "id": "c81eeb8d-751e-4453-80e7-33aeeb5d626f",
   "metadata": {},
   "outputs": [],
   "source": []
  },
  {
   "cell_type": "code",
   "execution_count": null,
   "id": "8cbf551b-1dfb-465c-8e95-dd1b38d88ea7",
   "metadata": {},
   "outputs": [],
   "source": []
  },
  {
   "cell_type": "code",
   "execution_count": null,
   "id": "ce434d15-8719-4cc8-a9cd-914b44e06e15",
   "metadata": {},
   "outputs": [],
   "source": []
  },
  {
   "cell_type": "code",
   "execution_count": null,
   "id": "524c946d-6b1d-4347-8aba-22d201b3c187",
   "metadata": {},
   "outputs": [],
   "source": []
  },
  {
   "cell_type": "markdown",
   "id": "e3b8f6f0-97d2-4a69-9df0-efa3663b85d4",
   "metadata": {},
   "source": [
    "<h4>Run Analysis Scripts</h4>\n",
    "\n",
    "Perform analyses on the simulation(s).\n",
    "This call uses the `analysis_scripts` specified in the run-time config file"
   ]
  },
  {
   "cell_type": "code",
   "execution_count": null,
   "id": "162dbf01-b244-45d3-9ec7-4684a57ce6f3",
   "metadata": {},
   "outputs": [],
   "source": [
    "adf.perform_analyses()"
   ]
  },
  {
   "cell_type": "markdown",
   "id": "75431df2-5265-42e2-9b9f-e4ea715ed10e",
   "metadata": {},
   "source": [
    "Output:"
   ]
  },
  {
   "cell_type": "markdown",
   "id": "7c72800c-f069-412e-9b11-7faca77323a1",
   "metadata": {},
   "source": [
    "      Calculating AMWG variable table...\n",
    "            /glade/scratch/richling/ADF_output/TEST/diag-plot/f.cam6_3_106.FLTHIST_v0a.ne30.dcs_effgw_rdg.001_1995_2000_vs_f.cam6_3_106.FLTHIST_v0a.ne30.dcs_non-ogw.001_1995_2000 not found, making new directory\n",
    "         - Variable 'OCNFRAC' being added to table\n",
    "         - Variable 'FLNT' being added to table\n",
    "         - Variable 'FSNT' being added to table\n",
    "         - Variable 'LWCF' being added to table\n",
    "         - Variable 'PBLH' being added to table\n",
    "         - Variable 'PS' being added to table\n",
    "         - Variable 'PSL' being added to table\n",
    "         - Variable 'Q' being added to table\n",
    "           Variable 'Q' has a vertical dimension, which is currently not supported for the AMWG Table. Skipping...\n",
    "         - Variable 'RELHUM' being added to table\n",
    "           Variable 'RELHUM' has a vertical dimension, which is currently not supported for the AMWG Table. Skipping...\n",
    "         - Variable 'SST' being added to table\n",
    "         - Variable 'SWCF' being added to table\n",
    "         - Variable 'T' being added to table\n",
    "           Variable 'T' has a vertical dimension, which is currently not supported for the AMWG Table. Skipping...\n",
    "         - Variable 'TS' being added to table\n",
    "         - Variable 'U' being added to table\n",
    "           Variable 'U' has a vertical dimension, which is currently not supported for the AMWG Table. Skipping...\n",
    "         - Variable 'RESTOM' being added to table\n",
    "         - Variable 'OCNFRAC' being added to table\n",
    "         - Variable 'FLNT' being added to table\n",
    "         - Variable 'FSNT' being added to table\n",
    "         - Variable 'LWCF' being added to table\n",
    "         - Variable 'PBLH' being added to table\n",
    "         - Variable 'PS' being added to table\n",
    "         - Variable 'PSL' being added to table\n",
    "         - Variable 'Q' being added to table\n",
    "           Variable 'Q' has a vertical dimension, which is currently not supported for the AMWG Table. Skipping...\n",
    "         - Variable 'RELHUM' being added to table\n",
    "           Variable 'RELHUM' has a vertical dimension, which is currently not supported for the AMWG Table. Skipping...\n",
    "         - Variable 'SST' being added to table\n",
    "         - Variable 'SWCF' being added to table\n",
    "         - Variable 'T' being added to table\n",
    "           Variable 'T' has a vertical dimension, which is currently not supported for the AMWG Table. Skipping...\n",
    "         - Variable 'TS' being added to table\n",
    "         - Variable 'U' being added to table\n",
    "           Variable 'U' has a vertical dimension, which is currently not supported for the AMWG Table. Skipping...\n",
    "         - Variable 'RESTOM' being added to table\n",
    "      ...AMWG variable table has been generated successfully.\n",
    "\n",
    "      Making comparison table...\n",
    "      ... Comparison table has been generated successfully"
   ]
  },
  {
   "cell_type": "code",
   "execution_count": null,
   "id": "b474d499-3716-479a-8df4-507bc78ef0a0",
   "metadata": {},
   "outputs": [],
   "source": []
  },
  {
   "cell_type": "markdown",
   "id": "7e7d1baa-1228-478e-9b38-e146380b7e04",
   "metadata": {},
   "source": [
    "<h4>Run Plotting Scripts</h4>\n",
    "\n",
    "Create plots.\n",
    "This call uses the `plotting_scripts` specified in the run-time config file"
   ]
  },
  {
   "cell_type": "code",
   "execution_count": null,
   "id": "ce8ab688-9f3c-46e4-bff6-2920a3a80b2d",
   "metadata": {},
   "outputs": [],
   "source": [
    "adf.create_plots()"
   ]
  },
  {
   "cell_type": "markdown",
   "id": "51387337-d7fc-4bff-80b3-0a278537f3bd",
   "metadata": {},
   "source": [
    "Output:"
   ]
  },
  {
   "cell_type": "markdown",
   "id": "a6f1e0a2-193f-44a6-940e-628cbd7b6a7c",
   "metadata": {},
   "source": [
    "      Generating lat/lon maps...\n",
    "         NOTE: Plot type is set to png\n",
    "         NOTE: redo_plot is set to False\n",
    "         - lat/lon maps for FLNT\n",
    "         - lat/lon maps for FSNT\n",
    "         - lat/lon maps for LWCF\n",
    "         - lat/lon maps for PBLH\n",
    "         - lat/lon maps for PS\n",
    "         - lat/lon maps for PSL\n",
    "         - lat/lon maps for Q\n",
    "         - lat/lon maps for RELHUM\n",
    "         - lat/lon maps for SST\n",
    "         - lat/lon maps for SWCF\n",
    "         - lat/lon maps for T\n",
    "         - lat/lon maps for TS\n",
    "         - lat/lon maps for U\n",
    "         - lat/lon maps for OCNFRAC\n",
    "      ...lat/lon maps have been generated successfully.\n",
    "\n",
    "      Generating zonal mean plots...\n",
    "         NOTE: Plot type is set to png\n",
    "         NOTE: redo_plot is set to False\n",
    "         - zonal mean plots for FLNT\n",
    "         - zonal mean plots for FSNT\n",
    "         - zonal mean plots for LWCF\n",
    "         - zonal mean plots for PBLH\n",
    "         - zonal mean plots for PS\n",
    "         - zonal mean plots for PSL\n",
    "         - zonal mean plots for Q\n",
    "           Q has lev dimension.\n",
    "         - zonal mean plots for RELHUM\n",
    "           RELHUM has lev dimension.\n",
    "         - zonal mean plots for SST\n",
    "         - zonal mean plots for SWCF\n",
    "         - zonal mean plots for T\n",
    "           T has lev dimension.\n",
    "         - zonal mean plots for TS\n",
    "         - zonal mean plots for U\n",
    "           U has lev dimension.\n",
    "         - zonal mean plots for OCNFRAC\n",
    "      ...Zonal mean plots have been generated successfully."
   ]
  },
  {
   "cell_type": "markdown",
   "id": "5b78d753-fa01-4b9d-ad26-ae309ea06bdf",
   "metadata": {},
   "source": [
    "<h4>Run Website Generation Scripts</h4>\n",
    "\n",
    "Create website if requested in the run-time config file"
   ]
  },
  {
   "cell_type": "code",
   "execution_count": null,
   "id": "06e4552c-6379-4943-959a-bb2b2e362955",
   "metadata": {},
   "outputs": [],
   "source": [
    "if adf.create_html:\n",
    "    adf.create_website()"
   ]
  },
  {
   "cell_type": "markdown",
   "id": "bdf9f8d1-dac8-4249-822b-6d91f1229e16",
   "metadata": {},
   "source": [
    "Output:"
   ]
  },
  {
   "cell_type": "markdown",
   "id": "b9e3adc6-eb24-4de0-bda8-1464e090a191",
   "metadata": {},
   "source": [
    "    Output:\n",
    "      Generating Diagnostics webpages...\n",
    "      ...Webpages have been generated successfully."
   ]
  },
  {
   "cell_type": "markdown",
   "id": "447a17a3-89af-4fb5-8b59-615562fd5e82",
   "metadata": {},
   "source": [
    "---"
   ]
  },
  {
   "cell_type": "markdown",
   "id": "789a3fe1-b94d-48ec-80bf-da543c2742d3",
   "metadata": {},
   "source": [
    "### Step 2: Analyze ADF Output\n",
    "\n",
    "Once the ADF has completed (either here in Jupyter or preiously from terminal run) we can use the `adf` object to gain access to everything available in the ADF. This could be very useful if you want to develop diagsnostics separate from the ADF in a Jupyter Notebook"
   ]
  },
  {
   "cell_type": "markdown",
   "id": "f9b0dedb-c02a-4767-b9ff-5b1dcaab6e7d",
   "metadata": {},
   "source": []
  },
  {
   "cell_type": "markdown",
   "id": "73a7385a-8a41-4b2d-bdd2-cef633109509",
   "metadata": {},
   "source": [
    "The `adf` object can be searched for any quantity of interest. Using the dot, `.` and tab function in Jupyter, we can get a list of all the available instances, classes, functions, etc:\n",
    "\n",
    "![adf objects](../../images/adf_dir.png)"
   ]
  },
  {
   "cell_type": "markdown",
   "id": "37c73012-17e5-4468-8fb9-76e474321760",
   "metadata": {},
   "source": [
    "Grab the case name instances:"
   ]
  },
  {
   "cell_type": "code",
   "execution_count": 13,
   "id": "4b1c3a39-ae17-4ef3-ae8a-263c43f1a3ac",
   "metadata": {},
   "outputs": [
    {
     "name": "stdout",
     "output_type": "stream",
     "text": [
      "['f.cam6_3_106.FLTHIST_v0a.ne30.dcs_effgw_rdg.001']\n",
      "f.cam6_3_106.FLTHIST_v0a.ne30.dcs_non-ogw.001\n"
     ]
    }
   ],
   "source": [
    "case_names = adf.get_cam_info(\"cam_case_name\",required=True)\n",
    "print(case_names)\n",
    "case_names = adf.get_baseline_info(\"cam_case_name\",required=True)\n",
    "print(case_names)"
   ]
  },
  {
   "cell_type": "markdown",
   "id": "2785ad59-a456-4984-be79-260940d9ff11",
   "metadata": {},
   "source": [
    "Grab the case climo years instances:"
   ]
  },
  {
   "cell_type": "code",
   "execution_count": 11,
   "id": "fc745257-d75c-45e6-9843-ca1c727324b6",
   "metadata": {},
   "outputs": [
    {
     "data": {
      "text/plain": [
       "{'syears': [1998],\n",
       " 'eyears': [2000],\n",
       " 'syear_baseline': 1998,\n",
       " 'eyear_baseline': 2000}"
      ]
     },
     "execution_count": 11,
     "metadata": {},
     "output_type": "execute_result"
    }
   ],
   "source": [
    "adf.climo_yrs"
   ]
  },
  {
   "cell_type": "markdown",
   "id": "da9e7dee-2d67-420d-883b-1fb9337932f3",
   "metadata": {},
   "source": [
    "Grab the listed CAM variables from the config file:"
   ]
  },
  {
   "cell_type": "code",
   "execution_count": 14,
   "id": "4f4c4db8-f481-4a11-b0e3-1799d98f2864",
   "metadata": {},
   "outputs": [
    {
     "data": {
      "text/plain": [
       "['FLNT',\n",
       " 'FSNT',\n",
       " 'LWCF',\n",
       " 'PBLH',\n",
       " 'PS',\n",
       " 'PSL',\n",
       " 'Q',\n",
       " 'RELHUM',\n",
       " 'SST',\n",
       " 'SWCF',\n",
       " 'T',\n",
       " 'TS',\n",
       " 'U',\n",
       " 'OCNFRAC']"
      ]
     },
     "execution_count": 14,
     "metadata": {},
     "output_type": "execute_result"
    }
   ],
   "source": [
    "var_list = adf.diag_var_list\n",
    "list(var_list)"
   ]
  },
  {
   "cell_type": "markdown",
   "id": "1b4c896f-2615-4e27-a9eb-994b2504d6e7",
   "metadata": {},
   "source": []
  },
  {
   "cell_type": "markdown",
   "id": "0927a805-1aea-4cbf-9351-e686bd3d5f1b",
   "metadata": {},
   "source": []
  },
  {
   "cell_type": "markdown",
   "id": "e46eee54-c674-4e65-b545-4f42959befae",
   "metadata": {},
   "source": []
  }
 ],
 "metadata": {
  "kernelspec": {
   "display_name": "NPL 2023a",
   "language": "python",
   "name": "npl-2023a"
  },
  "language_info": {
   "codemirror_mode": {
    "name": "ipython",
    "version": 3
   },
   "file_extension": ".py",
   "mimetype": "text/x-python",
   "name": "python",
   "nbconvert_exporter": "python",
   "pygments_lexer": "ipython3",
   "version": "3.9.16"
  }
 },
 "nbformat": 4,
 "nbformat_minor": 5
}
