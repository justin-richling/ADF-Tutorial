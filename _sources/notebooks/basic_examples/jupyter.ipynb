{
 "cells": [
  {
   "cell_type": "markdown",
   "id": "8567548b-bd3a-4ef5-b18c-bc5af5aab302",
   "metadata": {},
   "source": [
    "# ADF is runs in Jupyter\n",
    "\n",
    "Now that we have seen how to run the ADF via terminal, let's take a look at how to run the ADF through Jupyter.\n",
    "\n",
    "### Why Jupyter?\n",
    "\n",
    "If you are looking to use the ADF in a more developmental or interactive way, using Jupyter will offer a lot more flexibility than running through the terminal.\n",
    "\n",
    "One major advantage of this way fo running the ADF will allow the user to immediately have access to output data in a Jupyter notebook which can allow for further development or use of diagnostics that aren't in the ADF by defualt.\n",
    "\n",
    "One scenario to highlight tthis flexibility could be for tuning specific parameters of your model run that need  a specifi diagnostics set of tools that maybe only good for this tune. Now the user can build custom diagnostics code within the same Jupyter notebook that the ADF was run in!\n",
    "\n",
    "Let's take a quick look at an example:"
   ]
  },
  {
   "cell_type": "markdown",
   "id": "c71e1c42-600b-40f3-8a86-38b09c05f7b6",
   "metadata": {},
   "source": [
    "### Step 1: Run ADF\n",
    "\n",
    "This will simulate running the ADF in the terminal, so nothing will be different here"
   ]
  },
  {
   "cell_type": "markdown",
   "id": "8d240a41-6374-417f-b8f6-fb168c317477",
   "metadata": {},
   "source": []
  },
  {
   "cell_type": "markdown",
   "id": "879bad7f-59ca-4df9-9e93-6c0c08b2d944",
   "metadata": {},
   "source": []
  },
  {
   "cell_type": "markdown",
   "id": "9afefb96-b612-44a7-bc98-784d599d1c81",
   "metadata": {},
   "source": []
  },
  {
   "cell_type": "markdown",
   "id": "97517c12-521f-4de5-978a-30ea9a9fb8b4",
   "metadata": {},
   "source": []
  },
  {
   "cell_type": "markdown",
   "id": "ee6145d9-7e1f-4055-ae08-5beb5816cf54",
   "metadata": {},
   "source": []
  },
  {
   "cell_type": "markdown",
   "id": "d0f07046-ac48-4991-b633-3da3654c0082",
   "metadata": {},
   "source": []
  },
  {
   "cell_type": "code",
   "execution_count": null,
   "id": "fa823df1-3796-4909-833c-bdc9f2236c42",
   "metadata": {},
   "outputs": [],
   "source": []
  },
  {
   "cell_type": "code",
   "execution_count": null,
   "id": "f92e5fba-bd97-4a4c-afa2-7b6287a92949",
   "metadata": {},
   "outputs": [],
   "source": []
  },
  {
   "cell_type": "code",
   "execution_count": null,
   "id": "f62db6c8-a31f-4bb1-bc62-79c64b6eb776",
   "metadata": {},
   "outputs": [],
   "source": []
  },
  {
   "cell_type": "code",
   "execution_count": null,
   "id": "89e12bcd-e2d1-4a2b-a788-d3e182c6c452",
   "metadata": {},
   "outputs": [],
   "source": []
  },
  {
   "cell_type": "code",
   "execution_count": null,
   "id": "0cb9367d-5146-46d9-b72e-0d9e740350ef",
   "metadata": {},
   "outputs": [],
   "source": []
  },
  {
   "cell_type": "code",
   "execution_count": null,
   "id": "77294bc5-caac-4d5d-8537-e4d704a7693e",
   "metadata": {},
   "outputs": [],
   "source": []
  },
  {
   "cell_type": "code",
   "execution_count": null,
   "id": "d4a863e4-9fc4-4148-b621-3903ea7cae7e",
   "metadata": {},
   "outputs": [],
   "source": []
  },
  {
   "cell_type": "code",
   "execution_count": null,
   "id": "b5e50115-8c67-459f-9b45-03e834a6d653",
   "metadata": {},
   "outputs": [],
   "source": []
  },
  {
   "cell_type": "code",
   "execution_count": null,
   "id": "1b974d4c-9d79-44dd-97e9-eaa87212afd2",
   "metadata": {},
   "outputs": [],
   "source": []
  },
  {
   "cell_type": "code",
   "execution_count": null,
   "id": "8f09fc0a-0d69-489b-8cd6-2889de0b4a05",
   "metadata": {},
   "outputs": [],
   "source": []
  },
  {
   "cell_type": "code",
   "execution_count": null,
   "id": "802962fe-6008-48f4-99df-4cece0abb5d9",
   "metadata": {},
   "outputs": [],
   "source": []
  }
 ],
 "metadata": {
  "kernelspec": {
   "display_name": "Python 3 (ipykernel)",
   "language": "python",
   "name": "python3"
  },
  "language_info": {
   "codemirror_mode": {
    "name": "ipython",
    "version": 3
   },
   "file_extension": ".py",
   "mimetype": "text/x-python",
   "name": "python",
   "nbconvert_exporter": "python",
   "pygments_lexer": "ipython3",
   "version": "3.9.12"
  }
 },
 "nbformat": 4,
 "nbformat_minor": 5
}
