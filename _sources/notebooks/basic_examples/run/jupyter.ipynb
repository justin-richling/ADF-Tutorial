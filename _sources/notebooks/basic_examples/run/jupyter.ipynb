{
 "cells": [
  {
   "cell_type": "markdown",
   "id": "d88a8f2e-7cc7-4664-88b8-aaf7d1a0a555",
   "metadata": {
    "tags": []
   },
   "source": [
    "# ADF in Jupyter"
   ]
  },
  {
   "cell_type": "code",
   "execution_count": null,
   "id": "98d13334-1c5f-4faf-9027-0069b8d7582c",
   "metadata": {},
   "outputs": [],
   "source": []
  }
 ],
 "metadata": {
  "kernelspec": {
   "display_name": "Python 3 (ipykernel)",
   "language": "python",
   "name": "python3"
  },
  "language_info": {
   "codemirror_mode": {
    "name": "ipython",
    "version": 3
   },
   "file_extension": ".py",
   "mimetype": "text/x-python",
   "name": "python",
   "nbconvert_exporter": "python",
   "pygments_lexer": "ipython3",
   "version": "3.9.12"
  }
 },
 "nbformat": 4,
 "nbformat_minor": 5
}
