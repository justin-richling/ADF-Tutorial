{
 "cells": [
  {
   "cell_type": "markdown",
   "id": "4bc7228d-2174-4705-a3f8-b4e78bcc4b1c",
   "metadata": {},
   "source": [
    "# ADF Demo Setup\n",
    "\n",
    "Now we will walk through two common ADF setups:\n",
    "\n",
    "<ul>\n",
    "<li><a href=\"https://justin-richling.github.io/ADF-Tutorial/notebooks/basic_examples/model_model_run.html\">CAM simulation vs CAM simulation</a></li>\n",
    "<li><a href=\"https://justin-richling.github.io/ADF-Tutorial/notebooks/basic_examples/model_obs_run.html\">CAM simulation vs Observations/Reanalysis</a></li>\n",
    "<li><a href=\"https://justin-richling.github.io/ADF-Tutorial/notebooks/basic_examples/model_cmip_run.html\">CAM simulation vs Model Intercomparisons</a> (CMIP, AMIP)</li>\n",
    "</ul>\n",
    "\n",
    "\n",
    "These will be quick demos and are meant to show simple setups for running the ADF. For additional exercises see <strong>ADF EXERCISES</strong> section.\n",
    "\n",
    "\n",
    "```{admonition} Note\n",
    ":class: attention\n",
    "The setups will look almost identical, but pay attention to the small differences.\n",
    "```\n",
    "\n",
    "\n",
    "\n",
    "\n"
   ]
  },
  {
   "cell_type": "raw",
   "id": "0af8672f-1d78-4d8e-9560-0c2cf6e9e073",
   "metadata": {},
   "source": [
    "#### Ground Rules\n",
    "\n",
    "Let's go over some helpful tips/hints for some of the ADF parts.\n",
    "\n",
    "<strong>YAML file:</strong> As mentioned in the intro section, the ADF utilizes two YAML files for it's configuration. If you aren't familiar with YAML files, please check the reference section of this tutorial."
   ]
  },
  {
   "cell_type": "code",
   "execution_count": null,
   "id": "54423083-db2d-458d-8a09-a1c012e06f5c",
   "metadata": {},
   "outputs": [],
   "source": []
  }
 ],
 "metadata": {
  "kernelspec": {
   "display_name": "Python 3 (ipykernel)",
   "language": "python",
   "name": "python3"
  },
  "language_info": {
   "codemirror_mode": {
    "name": "ipython",
    "version": 3
   },
   "file_extension": ".py",
   "mimetype": "text/x-python",
   "name": "python",
   "nbconvert_exporter": "python",
   "pygments_lexer": "ipython3",
   "version": "3.9.12"
  }
 },
 "nbformat": 4,
 "nbformat_minor": 5
}
