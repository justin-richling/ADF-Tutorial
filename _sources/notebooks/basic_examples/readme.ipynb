{
 "cells": [
  {
   "cell_type": "markdown",
   "id": "4bc7228d-2174-4705-a3f8-b4e78bcc4b1c",
   "metadata": {},
   "source": [
    "# ADF Demo Setup\n",
    "\n",
    "Now we will walk through two common ADF setups:\n",
    "\n",
    "- CAM simulation vs CAM simulation\n",
    "- CAM simulation vs Observations/Reanalysis\n",
    "\n",
    "These will be quick and simple demos and are meant to show a simple setup. For additional examples see............."
   ]
  },
  {
   "cell_type": "code",
   "execution_count": null,
   "id": "54423083-db2d-458d-8a09-a1c012e06f5c",
   "metadata": {},
   "outputs": [],
   "source": []
  }
 ],
 "metadata": {
  "kernelspec": {
   "display_name": "Python 3 (ipykernel)",
   "language": "python",
   "name": "python3"
  },
  "language_info": {
   "codemirror_mode": {
    "name": "ipython",
    "version": 3
   },
   "file_extension": ".py",
   "mimetype": "text/x-python",
   "name": "python",
   "nbconvert_exporter": "python",
   "pygments_lexer": "ipython3",
   "version": "3.9.12"
  }
 },
 "nbformat": 4,
 "nbformat_minor": 5
}
