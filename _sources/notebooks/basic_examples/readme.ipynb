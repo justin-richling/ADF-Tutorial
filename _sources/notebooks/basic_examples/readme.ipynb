{
 "cells": [
  {
   "cell_type": "markdown",
   "id": "4bc7228d-2174-4705-a3f8-b4e78bcc4b1c",
   "metadata": {},
   "source": [
    "# Intro\n",
    "\n",
    "This will be a simple guided demo of running the ADF with sample data for two CAM simulations.\n",
    "\n"
   ]
  }
 ],
 "metadata": {
  "kernelspec": {
   "display_name": "Python 3 (ipykernel)",
   "language": "python",
   "name": "python3"
  },
  "language_info": {
   "codemirror_mode": {
    "name": "ipython",
    "version": 3
   },
   "file_extension": ".py",
   "mimetype": "text/x-python",
   "name": "python",
   "nbconvert_exporter": "python",
   "pygments_lexer": "ipython3",
   "version": "3.9.12"
  }
 },
 "nbformat": 4,
 "nbformat_minor": 5
}
