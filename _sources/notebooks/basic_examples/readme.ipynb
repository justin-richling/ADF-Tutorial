{
 "cells": [
  {
   "cell_type": "markdown",
   "id": "4bc7228d-2174-4705-a3f8-b4e78bcc4b1c",
   "metadata": {},
   "source": [
    "# Setup\n",
    "\n",
    "This will be a simple guided demo of running the ADF with sample data for two CAM simulations.\n",
    "\n",
    "Use this as a follow along as you work locally for this example ADF run.\n",
    "\n",
    "Navigate to where you installed the ADF:\n",
    "\n",
    "- If you followed our instructions earlier, you should have the ADF root directory at: `/glade/work/<user>/ADF/`\n",
    "\n",
    "\n",
    "### Configure Run-Time yaml file\n",
    "\n",
    "###### Introduction\n",
    "\n",
    "<p>Look for the conifuration yaml file that will be used to run the ADF, `config_baseline_example.yaml`\n",
    "\n",
    "This is probably the most important file for the ADF. This stores all the necessary information that the ADF needs to run as well as all the relevant information about the case and baseline/observation/cmip runs.</p>\n",
    "\n",
    "Each section of the yaml file represent grouped subsets of information sent to the ADF and each have variable names that get fed into the ADF in a specific fashion.\n",
    "\n",
    "We will copy the provided configuration yaml file `config_baseline_example.yaml` and will do small edits to run an example ADF with sample data.\n",
    "\n",
    "    cp config_baseline_example.yaml config_tutorial_example.yaml\n",
    "\n",
    "</p>\n",
    "\n",
    "###### Modify the Copy\n",
    "<p>Next open this new copy in your favorite editor\n",
    "    \n",
    "    emacs config_tutorial_example.yaml\n",
    "    \n",
    "</p>"
   ]
  }
 ],
 "metadata": {
  "kernelspec": {
   "display_name": "Python 3 (ipykernel)",
   "language": "python",
   "name": "python3"
  },
  "language_info": {
   "codemirror_mode": {
    "name": "ipython",
    "version": 3
   },
   "file_extension": ".py",
   "mimetype": "text/x-python",
   "name": "python",
   "nbconvert_exporter": "python",
   "pygments_lexer": "ipython3",
   "version": "3.9.12"
  }
 },
 "nbformat": 4,
 "nbformat_minor": 5
}
