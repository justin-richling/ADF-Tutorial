{
 "cells": [
  {
   "cell_type": "markdown",
   "id": "08297c52",
   "metadata": {},
   "source": [
    "# Yaml Config Files\n",
    "\n",
    "There are three yaml files included with the ADF"
   ]
  },
  {
   "cell_type": "markdown",
   "id": "e978bb1f-143b-4561-b818-48d30e8e9ea2",
   "metadata": {
    "tags": []
   },
   "source": [
    "### Configure yaml file for ADF using the history (h0) files\n",
    "\n",
    "Two are templates for the runtime config file. Chose one to copy and run with ./run_adf_diag\n",
    "\n",
    "` config_cam_baseline_example.yaml`\n",
    "\n",
    "<p style=\"margin-top: -5px;\">&ensp; General default file</p>\n",
    "\n",
    "` config_amwg_default_plots.yaml`\n",
    "\n",
    "<p style=\"margin-top: -5px;\">&ensp; This is meant for a subset of commonly used variables and plot types for the AMWG</p>\n"
   ]
  },
  {
   "cell_type": "code",
   "execution_count": null,
   "id": "3e25bdf0-28b7-4773-9e08-555ebdd17d0c",
   "metadata": {},
   "outputs": [],
   "source": []
  },
  {
   "cell_type": "markdown",
   "id": "5aca24fc-c5ec-4f7c-a62e-9e493726409f",
   "metadata": {},
   "source": [
    "### Configure yaml file for ADF variables\n",
    "\n",
    "And the third is for plotting and observational variable data to be used in the ADF. \n",
    "\n",
    "` lib/adf_variable_defaults.yaml   (optional)**`\n",
    "\n",
    "<p style=\"margin-top: -5px;\">&ensp; This file makes plotting variables more flexible as you can tailor <em>each</em> variable of interst with plotting details and observational dataset information.</p>\n",
    "\n",
    "<p style=\"margin-top: -5px;\">&ensp; For examples of ways to setup variable defaults please refer back to the blahblahblah</p>"
   ]
  },
  {
   "cell_type": "code",
   "execution_count": null,
   "id": "5d152a76-75f1-4e1b-beff-9467727ac3e3",
   "metadata": {},
   "outputs": [],
   "source": []
  },
  {
   "cell_type": "raw",
   "id": "12b7d446-9770-4350-bf7a-73ef8a1d3f8f",
   "metadata": {},
   "source": [
    "- config_cam_baseline_example.yaml  (necessary)\n",
    "- lib/adf_variable_defaults.yaml   (optional)**"
   ]
  },
  {
   "cell_type": "raw",
   "id": "828cca38-cabb-4880-bcd1-253da2707506",
   "metadata": {},
   "source": [
    "    ** Additionally, you will need to change the [defaults_file](https://justin-richling.github.io/ADF-Tutorial/notebooks/configs/yaml/runtime.html#defaults-file) path in your copy of [config_cam_baseline_example.yaml](https://justin-richling.github.io/ADF-Tutorial/notebooks/configs/yaml/runtime.html)"
   ]
  },
  {
   "cell_type": "markdown",
   "id": "1cb75d4f-3367-46db-8094-abd3f34a1af7",
   "metadata": {},
   "source": [
    "<h2>YAML File Basics</h2>\n",
    "\n",
    "YAML files are a special type of text file, which in our case (using Python) the information in the yaml file will become dictionaries in python scripts.\n",
    "\n",
    "Here are a couple hints\n",
    "\n"
   ]
  },
  {
   "cell_type": "markdown",
   "id": "1fc603f5-c112-49a2-be0f-330223e4a75a",
   "metadata": {},
   "source": [
    "Some paths in the config yaml file are optional and some are **required**"
   ]
  },
  {
   "cell_type": "markdown",
   "id": "a872db83-8fce-4457-ae88-9f80624f01a0",
   "metadata": {},
   "source": [
    "### Using variables in the yaml file\n",
    "\n",
    "\n",
    "\n",
    "![Running on Cheyenne Image](../../images/Slide13.png)"
   ]
  },
  {
   "cell_type": "markdown",
   "id": "f8701409-c0c9-4161-8b59-402d2296b33c",
   "metadata": {},
   "source": [
    "### Using variables in sub sections\n",
    "\n",
    "\n",
    "![Running on Cheyenne Image](../../images/Slide15.png)"
   ]
  },
  {
   "cell_type": "markdown",
   "id": "48ed717a-6839-4af3-814c-dcfa7ea6f93d",
   "metadata": {},
   "source": [
    "```{figure} https://solarsystem.nasa.gov/system/resources/detail_files/2486_stsci-h-p1936a_1800.jpg\n",
    "---\n",
    "height: 300px\n",
    "name: jupiter-figure\n",
    "---\n",
    "The beautiful planet Jupiter! Source: [NASA](https://solarsystem.nasa.gov/resources/2486/hubbles-new-portrait-of-jupiter/?category=planets_jupiter).\n",
    "```"
   ]
  },
  {
   "cell_type": "code",
   "execution_count": null,
   "id": "1b10a14d-aaaf-4b57-a23d-13acba3d7063",
   "metadata": {},
   "outputs": [],
   "source": []
  }
 ],
 "metadata": {
  "kernelspec": {
   "display_name": "Python 3 (ipykernel)",
   "language": "python",
   "name": "python3"
  },
  "language_info": {
   "codemirror_mode": {
    "name": "ipython",
    "version": 3
   },
   "file_extension": ".py",
   "mimetype": "text/x-python",
   "name": "python",
   "nbconvert_exporter": "python",
   "pygments_lexer": "ipython3",
   "version": "3.9.12"
  }
 },
 "nbformat": 4,
 "nbformat_minor": 5
}
