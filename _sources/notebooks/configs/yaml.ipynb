{
 "cells": [
  {
   "cell_type": "markdown",
   "id": "08297c52",
   "metadata": {},
   "source": [
    "# Yaml Config Files"
   ]
  },
  {
   "cell_type": "markdown",
   "id": "e978bb1f-143b-4561-b818-48d30e8e9ea2",
   "metadata": {},
   "source": [
    "### 1. Configure yaml files for the history files\n",
    "    \n",
    "#####   **NOTE:**  Make copies of these **files** and <u>modify/customize</u> the **copies**!\n",
    "    \n",
    "- config_cam_baseline_example.yaml  (necessary)\n",
    "- lib/adf_variable_defaults.yaml   (optional)**\n",
    "      \n",
    "    ** Additionally, you will need to change the defaults_file path in your copy of config_cam_baseline_example.yaml"
   ]
  },
  {
   "cell_type": "markdown",
   "id": "1cb75d4f-3367-46db-8094-abd3f34a1af7",
   "metadata": {},
   "source": [
    "<h2>YAML File Basics</h2>\n",
    "\n",
    "YAML files are a special type of text file, which in our case (using Python) the information in the yaml file will become dictionaries in python scripts.\n",
    "\n",
    "Here are a couple hints\n",
    "\n"
   ]
  },
  {
   "cell_type": "markdown",
   "id": "1fc603f5-c112-49a2-be0f-330223e4a75a",
   "metadata": {},
   "source": [
    "Some paths in the config yaml file are optional and some are **required**"
   ]
  },
  {
   "cell_type": "markdown",
   "id": "a872db83-8fce-4457-ae88-9f80624f01a0",
   "metadata": {},
   "source": [
    "### Using variables in the yaml file\n",
    "\n",
    "\n",
    "<img src=\"../../images/Slide13.png\">"
   ]
  },
  {
   "cell_type": "markdown",
   "id": "f8701409-c0c9-4161-8b59-402d2296b33c",
   "metadata": {},
   "source": [
    "### Using variables in sub sections\n",
    "\n",
    "<img src=\"../../images/Slide15.png\">"
   ]
  },
  {
   "cell_type": "markdown",
   "id": "48ed717a-6839-4af3-814c-dcfa7ea6f93d",
   "metadata": {},
   "source": [
    "```{figure} https://solarsystem.nasa.gov/system/resources/detail_files/2486_stsci-h-p1936a_1800.jpg\n",
    "---\n",
    "height: 300px\n",
    "name: jupiter-figure\n",
    "---\n",
    "The beautiful planet Jupiter! Source: [NASA](https://solarsystem.nasa.gov/resources/2486/hubbles-new-portrait-of-jupiter/?category=planets_jupiter).\n",
    "```"
   ]
  },
  {
   "cell_type": "code",
   "execution_count": null,
   "id": "1b10a14d-aaaf-4b57-a23d-13acba3d7063",
   "metadata": {},
   "outputs": [],
   "source": []
  }
 ],
 "metadata": {
  "kernelspec": {
   "display_name": "Python 3 (ipykernel)",
   "language": "python",
   "name": "python3"
  },
  "language_info": {
   "codemirror_mode": {
    "name": "ipython",
    "version": 3
   },
   "file_extension": ".py",
   "mimetype": "text/x-python",
   "name": "python",
   "nbconvert_exporter": "python",
   "pygments_lexer": "ipython3",
   "version": "3.9.12"
  }
 },
 "nbformat": 4,
 "nbformat_minor": 5
}
