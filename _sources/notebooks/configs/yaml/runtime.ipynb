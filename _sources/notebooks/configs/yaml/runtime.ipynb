{
 "cells": [
  {
   "cell_type": "markdown",
   "id": "20084872-f75c-4e81-bc2a-7447144bd175",
   "metadata": {},
   "source": [
    "# Single Case Comparison\n",
    "\n",
    "You will need to open the your custom config runtime yaml file (your_config_d.yaml) with your favorite editor\n",
    "\n",
    "Please refer back to the ADF Reference page for more info on these variables and for other optional variables\n",
    "\n",
    "### Edit the following variables\n",
    "\n",
    "##### diag_basic_info\n",
    "    \n",
    "<p style=\"margin-top: -5px;\">&ensp; compare_obs: <code class=\"docutils literal notranslate\"><span class=\"pre\">false</span></code></p>\n",
    "<p style=\"margin-top: -5px;\">&ensp; cam_regrid_loc: <code class=\"docutils literal notranslate\"><span class=\"pre\">/glade/scratch/${user}/ADF/regrid</span></code></p>\n",
    "<p style=\"margin-top: -5px;\">&ensp; cam_diag_plot_loc: <code class=\"docutils literal notranslate\"><span class=\"pre\">/glade/scratch/${user}/ADF/plots</span></code></p>\n",
    "<p style=\"margin-top: -5px;\">&ensp; use_defaults: <code class=\"docutils literal notranslate\"><span class=\"pre\">false</span></code></p>\n",
    "\n",
    "##### diag_cam_climo\n",
    "<p style=\"margin-top: -5px;\">&ensp; cam_case_name: <code class=\"docutils literal notranslate\"><span class=\"pre\">f.cam6_3_106.FLTHIST_v0a.ne30.dcs_effgw_rdg.001</span></code></p>\n",
    "<p style=\"margin-top: -5px;\">&ensp; cam_hist_loc: <code class=\"docutils literal notranslate\"><span class=\"pre\">/glade/scratch/richling/ADF/tutorials/data/f.cam6_3_106.FLTHIST_v0a.ne30.dcs_effgw_rdg.001</span></code></p>\n",
    "<p style=\"margin-top: -5px;\">&ensp; cam_climo_loc: <code class=\"docutils literal notranslate\"><span class=\"pre\">false</span></code></p>\n",
    "<p style=\"margin-top: -5px;\">&ensp; start_year: <code class=\"docutils literal notranslate\"><span class=\"pre\">false</span></code></p>\n",
    "<p style=\"margin-top: -5px;\">&ensp; end_year: <code class=\"docutils literal notranslate\"><span class=\"pre\">false</span></code></p>\n",
    "<p style=\"margin-top: -5px;\">&ensp; cam_ts_loc: <code class=\"docutils literal notranslate\"><span class=\"pre\">false</span></code></p>\n",
    "\n",
    "##### diag_cam_baseline_climo\n",
    "<p style=\"margin-top: -5px;\">&ensp; cam_case_name: <code class=\"docutils literal notranslate\"><span class=\"pre\">false</span></code></p>\n",
    "<p style=\"margin-top: -5px;\">&ensp; cam_hist_loc: <code class=\"docutils literal notranslate\"><span class=\"pre\">false</span></code></p>\n",
    "<p style=\"margin-top: -5px;\">&ensp; cam_climo_loc: <code class=\"docutils literal notranslate\"><span class=\"pre\">false</span></code></p>\n",
    "<p style=\"margin-top: -5px;\">&ensp; start_year: <code class=\"docutils literal notranslate\"><span class=\"pre\">false</span></code></p>\n",
    "<p style=\"margin-top: -5px;\">&ensp; end_year: <code class=\"docutils literal notranslate\"><span class=\"pre\">false</span></code></p>\n",
    "<p style=\"margin-top: -5px;\">&ensp; cam_ts_loc: <code class=\"docutils literal notranslate\"><span class=\"pre\">false</span></code></p>"
   ]
  },
  {
   "cell_type": "markdown",
   "id": "ce564027-dd21-4ad1-8d90-6406331f765b",
   "metadata": {},
   "source": [
    "## Diagnostic Scripts \"Subsections\"\n",
    "\n",
    "<p>Each of the following sets are also considered subsections. These are all components of the actual diagnostics workflow of the ADF.</p>"
   ]
  },
  {
   "cell_type": "raw",
   "id": "6bbd76dc-aedd-4e6c-86c9-99e9dc15d783",
   "metadata": {},
   "source": [
    "## $\\color{#117284}{\\textit{time_averaging_scripts}}$\n"
   ]
  },
  {
   "cell_type": "markdown",
   "id": "48fd704f-924b-4d2c-999e-7389941fa777",
   "metadata": {},
   "source": [
    "## time_averaging_scripts"
   ]
  },
  {
   "cell_type": "markdown",
   "id": "ae0ae44b-dcb6-4e49-b3b6-e4db6ce6ed27",
   "metadata": {},
   "source": [
    "This section allows for any time averaging scripts\n",
    "\n",
    "* Must be located in scripts/averaging!\n",
    "\n",
    "      - scripts/averaging/create_climo_files.py\n"
   ]
  },
  {
   "cell_type": "raw",
   "id": "6485c117-0041-44d7-a168-b3067c5711e1",
   "metadata": {},
   "source": [
    "## $\\color{#117284}{\\textit{regridding_scripts}}$\n"
   ]
  },
  {
   "cell_type": "markdown",
   "id": "05223fcc-5203-4ce8-a10c-4d3ac4efc003",
   "metadata": {},
   "source": [
    "## regridding_scripts"
   ]
  },
  {
   "cell_type": "markdown",
   "id": "e498346a-eb7a-4663-95f9-75381b7ac1b4",
   "metadata": {},
   "source": [
    "This section allows for any regridding scripts\n",
    "\n",
    "* Must be located in scripts/regridding!\n",
    "\n",
    "      - scripts/regridding /regrid_and_vert_interp.py\n"
   ]
  },
  {
   "cell_type": "raw",
   "id": "ef69be10-e7e5-403a-a1b8-9756492e97f2",
   "metadata": {},
   "source": [
    "## $\\color{#117284}{\\textit{analysis_scripts}}$\n"
   ]
  },
  {
   "cell_type": "markdown",
   "id": "4da9875e-93c3-4a18-b927-197b9ed61a7c",
   "metadata": {},
   "source": [
    "## analysis_scripts"
   ]
  },
  {
   "cell_type": "markdown",
   "id": "705f2dc1-8a68-4d75-a468-62cbac4dedb2",
   "metadata": {},
   "source": [
    "This section allows for a broad spectra of data analysis scripts\n",
    "\n",
    "* Must be located in scripts/analysis!\n",
    "    \n",
    "      - scripts/analysis/amwg_table.py\n",
    "      \n",
    "      Possible addition examples:\n",
    "      - scripts/analysis/amwg_chem_table.py\n",
    "      - scripts/analysis/amwg_aerosol_table.py\n"
   ]
  },
  {
   "cell_type": "raw",
   "id": "23e2b477-3630-4712-824c-66d399746590",
   "metadata": {},
   "source": [
    "## $\\color{#117284}{\\textit{plotting_scripts}}$\n"
   ]
  },
  {
   "cell_type": "markdown",
   "id": "8736320f-4286-4515-8e44-a6ce963eae2b",
   "metadata": {},
   "source": [
    "## plotting_scripts"
   ]
  },
  {
   "cell_type": "markdown",
   "id": "eb1f3f58-06ab-4e78-bc28-566d437d980d",
   "metadata": {},
   "source": [
    "Set of plotting scripts, both ADF default as well as any custom scripts\n",
    "\n",
    "* Must be located in scripts/plotting!\n",
    "\n",
    "     - scripts/averaging/cam_taylor_diagram.py\n",
    "     - scripts/averaging/global_latlon_map.py\n",
    "     - scripts/averaging/…\n",
    "\n",
    "     Possible addition examples:\n",
    "     - scripts/averaging/tem.py\n",
    "     - scripts/averaging/time_series.py\n"
   ]
  },
  {
   "cell_type": "raw",
   "id": "801e0664-ea99-426a-9f77-bba1c83319ba",
   "metadata": {},
   "source": [
    "## $\\color{#117284}{\\textit{diag_var_list}}$\n"
   ]
  },
  {
   "cell_type": "markdown",
   "id": "e46b17f0-75d1-4e61-986d-7056a6397c58",
   "metadata": {},
   "source": [
    "## diag_var_list"
   ]
  },
  {
   "cell_type": "markdown",
   "id": "c1fb6c0f-2fef-486b-aee5-0f12cd0c4bd4",
   "metadata": {},
   "source": [
    "List of variables to be executed in the ADF\n"
   ]
  },
  {
   "cell_type": "raw",
   "id": "a60c80a4-19ba-432f-a825-6a0ef6d5afd0",
   "metadata": {},
   "source": [
    "## $\\color{#117284}{\\textit{region_multicase}}$\n"
   ]
  },
  {
   "cell_type": "markdown",
   "id": "cb5eca2a-d930-453d-9b2d-a9434590dc48",
   "metadata": {},
   "source": [
    "## region_multicase"
   ]
  },
  {
   "cell_type": "markdown",
   "id": "2811ea93-eec9-4753-8b12-2fcd9442ead8",
   "metadata": {},
   "source": [
    "---"
   ]
  },
  {
   "cell_type": "markdown",
   "id": "acd1d899-c98f-4a45-8fca-cf14af4f6d9b",
   "metadata": {},
   "source": [
    "### ADF Default Set\n",
    "\n",
    "<p>If you want to use the ADF default values you need to set <a href=\"https://justin-richling.github.io/ADF-Tutorial/notebooks/configs/yaml/runtime.html#use-defaults\"><code class=\"docutils literal notranslate\"><span class=\"pre\">use_defaults</span></code></a> in your copy of the config_yaml to true\n",
    "</p>"
   ]
  },
  {
   "cell_type": "markdown",
   "id": "38e322df-cf23-420a-96a7-e78ac573ab47",
   "metadata": {},
   "source": [
    "### Custom Set\n",
    "\n",
    "<p>If you plan on using a modified file for your custom values you need to set <a href=\"https://justin-richling.github.io/ADF-Tutorial/notebooks/configs/yaml/runtime.html#use-defaults\"><code class=\"docutils literal notranslate\"><span class=\"pre\">use_defaults</span></code></a> in your copy of the config_yaml to false and set the path to the custom variable default file with <a href=\"https://justin-richling.github.io/ADF-Tutorial/notebooks/configs/yaml/runtime.html#defaults-file\"><code class=\"docutils literal notranslate\"><span class=\"pre\">defaults_file</span></code></a>\n",
    "</p>"
   ]
  },
  {
   "cell_type": "markdown",
   "id": "63467f98-e5b2-4ee2-b188-21bd217f3c93",
   "metadata": {},
   "source": []
  },
  {
   "cell_type": "markdown",
   "id": "5afb7372-1d6e-41a7-8c5f-84051cd2185a",
   "metadata": {},
   "source": []
  }
 ],
 "metadata": {
  "kernelspec": {
   "display_name": "Python 3 (ipykernel)",
   "language": "python",
   "name": "python3"
  },
  "language_info": {
   "codemirror_mode": {
    "name": "ipython",
    "version": 3
   },
   "file_extension": ".py",
   "mimetype": "text/x-python",
   "name": "python",
   "nbconvert_exporter": "python",
   "pygments_lexer": "ipython3",
   "version": "3.9.12"
  }
 },
 "nbformat": 4,
 "nbformat_minor": 5
}
