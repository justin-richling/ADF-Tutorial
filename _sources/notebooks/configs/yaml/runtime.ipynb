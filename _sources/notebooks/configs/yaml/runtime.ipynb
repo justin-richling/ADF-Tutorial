{
 "cells": [
  {
   "cell_type": "markdown",
   "id": "6bda8ea3",
   "metadata": {},
   "source": [
    "# Run Time"
   ]
  },
  {
   "cell_type": "markdown",
   "id": "0630bf9a-ec81-406a-b8ce-2e2a26074073",
   "metadata": {},
   "source": [
    "### $\\color{red}{diag\\_cam\\_climo}$\n",
    "\n",
    "### AHH $\\color{#08B1A8}{\\text{diag\\_cam\\_climo}}$"
   ]
  },
  {
   "cell_type": "markdown",
   "id": "98d08f33-9ffb-49b0-8b2b-665df115c9fc",
   "metadata": {},
   "source": [
    "## First set in yaml file:&ensp; $\\color{#117284}{\\textit{diag\\_basic\\_info}}$"
   ]
  },
  {
   "cell_type": "markdown",
   "id": "65102488-32ef-4e7c-9436-1ca3e1da250b",
   "metadata": {},
   "source": []
  },
  {
   "cell_type": "markdown",
   "id": "0792b223-b8e9-4ab4-8209-4a3d3ca308a0",
   "metadata": {},
   "source": [
    "---"
   ]
  },
  {
   "cell_type": "markdown",
   "id": "0adbd688-3d9a-45be-91be-7a35e9174610",
   "metadata": {},
   "source": [
    "## Second set in yaml file:&ensp; $\\color{#117284}{\\textit{diag\\_cam\\_climo}}$"
   ]
  },
  {
   "cell_type": "markdown",
   "id": "0ec0cf98-7c81-468d-b342-3d0ee4d9456b",
   "metadata": {},
   "source": [
    "#### **Calculate climatologies?**\n",
    "\n",
    "#####    &emsp;    If false, neither the climatology or time-series files will be created:\n",
    "#####    &emsp;    calc_cam_climo: true\n",
    "\n",
    "#### **Overwrite CAM climatology files?**\n",
    "\n",
    "#####    &emsp;If false, or not present, then already existing climatology files will be skipped:\n",
    "#####    &emsp;**cam_overwrite_climo**: false\n",
    "\n",
    "#### **Name of CAM case (or CAM run name):**\n",
    "#####    &emsp;    cam_case_name: b.e20.BHIST.f09_g17.20thC.297_05\n",
    "\n",
    "#### **Case nickname**\n",
    "#####    &emsp;    If left blank, it will default to cam_case_name\n",
    "#####    &emsp;     ** NOTE: if nickname starts with a zero, the string must be in quotes! **\n",
    "#####    &emsp;    case_nickname: ${diag_cam_climo.cam_case_name}\n",
    "\n",
    "#### **Location of CAM history (h0) files:**\n",
    "#####    &emsp;    cam_hist_loc: /glade/p/cesm/ADF/${diag_cam_climo.cam_case_name}\n",
    "\n",
    "#### **Location of CAM climatologies (to be created and then used by this script)**\n",
    "#####    &emsp;    cam_climo_loc: /glade/scratch/${user}/ADF/${diag_cam_climo.cam_case_name}/climo\n",
    "\n",
    "#### **Model year when time series files should start:**\n",
    "#####    &emsp;    Note:  Leaving this entry blank will make time series start at earliest available year.\n",
    "#####    &emsp;    start_year: 1990\n",
    "\n",
    "#### **Model year when time series files should end:**\n",
    "#####    &emsp;    Note:  Leaving this entry blank will make time series end at latest available year.\n",
    "#####    &emsp;    end_year: 1999\n",
    "\n",
    "\n",
    "#### **Do time series files need to be generated?**\n",
    "#####    &emsp;    If True, then diagnostics assumes that model files are already time series.\n",
    "#####    &emsp;    If False, or if simply not present, then diagnostics will attempt to create\n",
    "#####    &emsp;    time series files from history (time-slice) files:\n",
    "#####    &emsp;    cam_ts_done: false\n",
    "\n",
    "#### **Save interim time series files?**\n",
    "#####    &emsp;    WARNING:  This can take up a significant amount of space, but will save processing time the next time\n",
    "#####    &emsp;    cam_ts_save: true\n",
    "\n",
    "#### **Overwrite time series files, if found?**\n",
    "#####    &emsp;    If set to false, then time series creation will be skipped if files are found:\n",
    "#####    &emsp;    cam_overwrite_ts: false\n",
    "\n",
    "#### **Location where time series files are (or will be) stored:**\n",
    "#####    &emsp;    cam_ts_loc: /glade/scratch/${user}/ADF/${diag_cam_climo.cam_case_name}/ts\n"
   ]
  },
  {
   "cell_type": "markdown",
   "id": "29f3a977-8b04-46d5-bb01-b4e1a5c62ccb",
   "metadata": {},
   "source": [
    "---"
   ]
  },
  {
   "cell_type": "markdown",
   "id": "8a6ebd77-17ba-427f-9eb5-e597458ab834",
   "metadata": {},
   "source": [
    "## Third set in yaml file:&ensp; $\\color{#117284}{\\textit{diag\\_cam\\_baseline\\_climo}}$"
   ]
  },
  {
   "cell_type": "markdown",
   "id": "68b9baf5-ae8f-4c98-afdb-3a348a6c7f07",
   "metadata": {},
   "source": [
    "| Syntax      | Description |\n",
    "| ----------- | ----------- |\n",
    "| Header      | Title       |\n",
    "| Paragraph   | Text        |"
   ]
  },
  {
   "cell_type": "markdown",
   "id": "446251ce-49ab-46e3-862c-2cee5ef89322",
   "metadata": {},
   "source": [
    "|       |  |       |\n",
    "| :---        |    :----:   |          ---: |\n",
    "| Header      | Title       | Here's this   |\n",
    "| Paragraph   | Text        | And more      |"
   ]
  },
  {
   "cell_type": "code",
   "execution_count": null,
   "id": "c56f9d6c-04df-484c-bc52-efc98e4a5f2c",
   "metadata": {},
   "outputs": [],
   "source": []
  }
 ],
 "metadata": {
  "kernelspec": {
   "display_name": "Python 3 (ipykernel)",
   "language": "python",
   "name": "python3"
  },
  "language_info": {
   "codemirror_mode": {
    "name": "ipython",
    "version": 3
   },
   "file_extension": ".py",
   "mimetype": "text/x-python",
   "name": "python",
   "nbconvert_exporter": "python",
   "pygments_lexer": "ipython3",
   "version": "3.9.12"
  }
 },
 "nbformat": 4,
 "nbformat_minor": 5
}
