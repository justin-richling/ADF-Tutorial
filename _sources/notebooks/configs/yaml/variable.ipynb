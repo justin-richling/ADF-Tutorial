{
 "cells": [
  {
   "cell_type": "markdown",
   "id": "fd27e152",
   "metadata": {},
   "source": [
    "# Configuring Variable Defaults\n",
    "\n",
    "Location for many plotting, unit, etc defualts for any/all CAM output variables"
   ]
  },
  {
   "cell_type": "markdown",
   "id": "eeb852dd-8b6a-48c6-aa14-ddcf82b9f1a8",
   "metadata": {},
   "source": [
    "##### Plotting\n",
    "\n",
    "<h4>colormap</h4>"
   ]
  },
  {
   "cell_type": "markdown",
   "id": "76466060-cbf7-4c3e-8d6b-0de971a36ba2",
   "metadata": {},
   "source": []
  }
 ],
 "metadata": {
  "kernelspec": {
   "display_name": "Python 3 (ipykernel)",
   "language": "python",
   "name": "python3"
  },
  "language_info": {
   "codemirror_mode": {
    "name": "ipython",
    "version": 3
   },
   "file_extension": ".py",
   "mimetype": "text/x-python",
   "name": "python",
   "nbconvert_exporter": "python",
   "pygments_lexer": "ipython3",
   "version": "3.9.12"
  }
 },
 "nbformat": 4,
 "nbformat_minor": 5
}
