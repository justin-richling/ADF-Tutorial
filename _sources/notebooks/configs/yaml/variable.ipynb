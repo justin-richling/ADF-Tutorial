{
 "cells": [
  {
   "cell_type": "markdown",
   "id": "fd27e152",
   "metadata": {},
   "source": [
    "# Configuring Variable Defaults\n",
    "\n",
    "Location for many plotting, unit, etc defualts for any/all CAM output variables\n",
    "\n",
    "```{Warning}\n",
    "Final Note:  Please do not modify this file unless you plan to push your changes back to the ADF repo.\n",
    "             If you would like to modify this file for your personal ADF runs then it is recommended\n",
    "             to make a copy of this file, make modifications in that copy, and then point the ADF to\n",
    "             it using the \"defaults_file\" config variable.\n",
    "```"
   ]
  },
  {
   "cell_type": "markdown",
   "id": "e60ee9b2-b1a0-4145-9b7a-47588e72e093",
   "metadata": {},
   "source": [
    "```{admonition} Example\n",
    "<p>U:</p>\n",
    "<p style=\"margin-top: -22px;\">&ensp;colormap: \"Blues\"</p>\n",
    "<p style=\"margin-top: -22px;\">&ensp;contour_levels_range: [-10, 90, 5]</p>\n",
    "<p style=\"margin-top: -22px;\">&ensp;diff_colormap: \"BrBG\"</p>\n",
    "<p style=\"margin-top: -22px;\">&ensp;diff_contour_range: [-15, 15, 2]</p>\n",
    "<p style=\"margin-top: -22px;\">&ensp;scale_factor: 1</p>\n",
    "<p style=\"margin-top: -22px;\">&ensp;add_offset: 0</p>\n",
    "<p style=\"margin-top: -22px;\">&ensp;new_unit: \"ms$^{-1}$\"</p>\n",
    "<p style=\"margin-top: -22px;\">&ensp;mpl:</p>\n",
    "<p style=\"margin-top: -22px;\">&emsp;colorbar:</p>\n",
    "<p style=\"margin-top: -22px;\">&emsp;&emsp;label : \"ms$^{-1}$\"</p>\n",
    "<p style=\"margin-top: -22px;\">&ensp;obs_file: \"U_ERA5_monthly_climo_197901-202112.nc\"</p>\n",
    "<p style=\"margin-top: -22px;\">&ensp;obs_name: \"ERA5\"</p>\n",
    "<p style=\"margin-top: -22px;\">&ensp;obs_var_name: \"U\"</p>\n",
    "<p style=\"margin-top: -22px;\">&ensp;vector_pair: \"V\"</p>\n",
    "<p style=\"margin-top: -22px;\">&ensp;vector_name: \"Wind\"</p>\n",
    "<p style=\"margin-top: -22px;\">&ensp;category: \"State\"</p>\n",
    "```"
   ]
  },
  {
   "cell_type": "markdown",
   "id": "7953c7dd-5f83-427c-b1ab-05fd1e5fb20e",
   "metadata": {},
   "source": [
    "## Variable Default Settings"
   ]
  },
  {
   "cell_type": "markdown",
   "id": "3c020f3b-405a-45ee-ac29-d2868bd1c301",
   "metadata": {},
   "source": [
    "### ADF Default Set\n",
    "\n",
    "<p>Reminder: </p>\n",
    "You need to set <a href=\"https://justin-richling.github.io/ADF-Tutorial/notebooks/configs/yaml/runtime.html#\"><code class=\"docutils literal notranslate\"><span class=\"pre\">use_defaults</span></code></a> in your copy of the config_yaml to true\n",
    "\n"
   ]
  },
  {
   "cell_type": "markdown",
   "id": "56d2868a-705e-49ae-b31e-9b05263e19f7",
   "metadata": {},
   "source": [
    "### Custom Set\n",
    "\n",
    "```{admonition} Reminder\n",
    "You need to set <a href=\"https://justin-richling.github.io/ADF-Tutorial/notebooks/configs/yaml/runtime.html#\"><code class=\"docutils literal notranslate\"><span class=\"pre\">use_defaults</span></code></a> in your copy of the config_yaml to false and set the path to the custom variable default file with <a href=\"https://justin-richling.github.io/ADF-Tutorial/notebooks/configs/yaml/runtime.html#\"><code class=\"docutils literal notranslate\"><span class=\"pre\">use_defaults</span></code></a>\n",
    "```\n",
    "\n",
    "\n",
    "\n",
    "\n",
    "\n"
   ]
  },
  {
   "cell_type": "code",
   "execution_count": null,
   "id": "8a08f19a-180f-4a9c-a9d9-092e2002dd8b",
   "metadata": {},
   "outputs": [],
   "source": []
  },
  {
   "cell_type": "code",
   "execution_count": null,
   "id": "c5649826-710f-442e-af23-491d90604359",
   "metadata": {},
   "outputs": [],
   "source": []
  },
  {
   "cell_type": "raw",
   "id": "8b1f009e-d11a-4c8a-a1a5-78f8186720fa",
   "metadata": {},
   "source": [
    "<h3>compare_obs2<a class=\"headerlink\" href=\"#compare_obs2\" title=\"Permalink to this heading\">#</a></h3>"
   ]
  },
  {
   "cell_type": "markdown",
   "id": "eeb852dd-8b6a-48c6-aa14-ddcf82b9f1a8",
   "metadata": {},
   "source": [
    "##### Plotting\n",
    "\n",
    "<h4><code class=\"docutils literal notranslate\"><span class=\"pre\">colormap</span></code><a class=\"headerlink\" href=\"#colormap\" title=\"Permalink to this heading\">#</a></h4>\n",
    "<ul>\n",
    "<li><p>The colormap that will be used for filled contour plots.</p></li>\n",
    "</ul>\n",
    "\n",
    "<h4><code class=\"docutils literal notranslate\"><span class=\"pre\">contour_levels</span></code></h4>\n",
    "<ul>\n",
    "<li><p>A list of the specific contour values that will be used for contour plots.</p></li>\n",
    "<li><p>Cannot be used with \"contour_levels_range\".</p></li>\n",
    "</ul>\n",
    "\n",
    "<h4><code class=\"docutils literal notranslate\"><span class=\"pre\">contour_levels_range</span></code></h4>\n",
    "<ul>\n",
    "<li><p>The contour range that will be used for plots.</p></li>\n",
    "<li><p>Values are min, max, and stride.</p></li>\n",
    "<li><p>Cannot be used with \"contour_levels\".</p></li>\n",
    "</ul>\n",
    "\n",
    "<h4><code class=\"docutils literal notranslate\"><span class=\"pre\">diff_colormap</span></code></h4>\n",
    "<ul>\n",
    "<li><p>The colormap that will be used for filled contour different plots</p></li>\n",
    "</ul>\n",
    "\n",
    "<h4><code class=\"docutils literal notranslate\"><span class=\"pre\">diff_contour_levels</span></code></h4>\n",
    "<ul>\n",
    "<li><p>A list of the specific contour values thta will be used for difference plots.</p></li>\n",
    "<li><p>Cannot be used with \"diff_contour_range\".</p></li>\n",
    "</ul>\n",
    "\n",
    "<h4><code class=\"docutils literal notranslate\"><span class=\"pre\">diff_contour_range</span></code></h4>\n",
    "<ul>\n",
    "<li><p>The contour range that will be used for difference plots.</p></li>\n",
    "<li><p>Values are min, max, and stride. Cannot be used with \"diff_contour_levels\".</p></li>\n",
    "</ul>\n",
    "\n",
    "<h4><code class=\"docutils literal notranslate\"><span class=\"pre\">scale_factor</span></code></h4>\n",
    "<ul>\n",
    "<li><p>Amount to scale the variable (relative to its \"raw\" model values).</p></li>\n",
    "</ul>\n",
    "\n",
    "<h4><code class=\"docutils literal notranslate\"><span class=\"pre\">add_offset</span></code></h4>\n",
    "<ul>\n",
    "<li><p>Amount of offset to add to the variable (relatie to its \"raw\" model values).</p></li>\n",
    "</ul>\n",
    "\n",
    "<h4><code class=\"docutils literal notranslate\"><span class=\"pre\">new_unit</span></code></h4>\n",
    "<ul>\n",
    "<li><p>Variable units (if not using the  \"raw\" model units).</p></li>\n",
    "</ul>\n",
    "\n",
    "<h4><code class=\"docutils literal notranslate\"><span class=\"pre\">mpl</span></code></h4>\n",
    "<ul>\n",
    "<li><p>Dictionary that contains keyword arguments explicitly for matplotlib</p></li>\n",
    "</ul>\n",
    "\n",
    "<h4><code class=\"docutils literal notranslate\"><span class=\"pre\">mask</span></code></h4>\n",
    "<ul>\n",
    "<li><p>Setting that specifies whether the variable should be masked.</p></li>\n",
    "<li><p>Currently only accepts \"ocean\", which means the variable will be masked everywhere that isn't open ocean.</p></li>\n",
    "</ul>"
   ]
  },
  {
   "cell_type": "markdown",
   "id": "76466060-cbf7-4c3e-8d6b-0de971a36ba2",
   "metadata": {},
   "source": [
    "##### Observations\n",
    "\n",
    "<h4><code class=\"docutils literal notranslate\"><span class=\"pre\">obs_file</span></code></h4>\n",
    "<ul>\n",
    "<li><p>Path to observations file.</p></li>\n",
    "<li><p>If only the file name is given, then the file is assumed to exist in the path specified by \"obs_data_loc\" in the config file.</p></li>\n",
    "</ul>\n",
    "\n",
    "<h4><code class=\"docutils literal notranslate\"><span class=\"pre\">obs_name</span></code></h4>\n",
    "<ul>\n",
    "<li><p>Name of the observational dataset (mostly used for plotting and generated file naming).</p></li>\n",
    "<li><p>If this isn't present then the obs_file name is used.</p></li>\n",
    "</ul>\n",
    "\n",
    "<h4><code class=\"docutils literal notranslate\"><span class=\"pre\">obs_var_name</span></code></h4>\n",
    "<ul>\n",
    "<li><p>Variable in the observations file to compare against.</p></li>\n",
    "<li><p>If this isn't present then the variable name is assumed to be the same as the model variable name.</p></li>\n",
    "</ul>"
   ]
  },
  {
   "cell_type": "markdown",
   "id": "abf396e9-173d-4cfd-b7dd-0ee0e20f35ff",
   "metadata": {},
   "source": [
    "##### Vector\n",
    "\n",
    "<h4><code class=\"docutils literal notranslate\"><span class=\"pre\">vector_pair</span></code></h4>\n",
    "<ul>\n",
    "<li><p>Another variable that when combined with the given variable makes up a vector pair.</p></li>\n",
    "<li><p>If this default is not present then it is assumed the given variable is not a vector component, and will thus be skipped during the vector plotting phase.</p></li>\n",
    "</ul>\n",
    "\n",
    "<h4><code class=\"docutils literal notranslate\"><span class=\"pre\">vector_name</span></code></h4>\n",
    "<ul>\n",
    "<li><p>The name of the vector the variable is associated with, which will be used to title the respective vector plot(s).</p></li>\n",
    "</ul>"
   ]
  },
  {
   "cell_type": "markdown",
   "id": "cd45f781-3b67-4b7c-bbe1-b2e8ad35c82d",
   "metadata": {},
   "source": [
    "##### Website\n",
    "\n",
    "<h4><code class=\"docutils literal notranslate\"><span class=\"pre\">category</span></code></h4>\n",
    "<ul>\n",
    "<li><p>The website category the variable will be placed under.</p>\n",
    "</ul>"
   ]
  }
 ],
 "metadata": {
  "kernelspec": {
   "display_name": "Python 3 (ipykernel)",
   "language": "python",
   "name": "python3"
  },
  "language_info": {
   "codemirror_mode": {
    "name": "ipython",
    "version": 3
   },
   "file_extension": ".py",
   "mimetype": "text/x-python",
   "name": "python",
   "nbconvert_exporter": "python",
   "pygments_lexer": "ipython3",
   "version": "3.9.12"
  }
 },
 "nbformat": 4,
 "nbformat_minor": 5
}
