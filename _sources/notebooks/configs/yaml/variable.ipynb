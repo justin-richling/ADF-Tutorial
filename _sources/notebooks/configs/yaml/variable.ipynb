{
 "cells": [
  {
   "cell_type": "markdown",
   "id": "fd27e152",
   "metadata": {},
   "source": [
    "# Configuring Variable Defaults\n",
    "\n",
    "Location for many plotting, unit, etc defualts for any/all CAM output variables"
   ]
  },
  {
   "cell_type": "markdown",
   "id": "eeb852dd-8b6a-48c6-aa14-ddcf82b9f1a8",
   "metadata": {},
   "source": [
    "##### Plotting\n",
    "\n",
    "<h4>colormap</h4>\n",
    "<p>The colormap that will be used for filled contour plots.</p>\n",
    "\n",
    "<h4>contour_levels</h4>\n",
    "<p>A list of the specific contour values that will be used for contour plots.</p>\n",
    "<p>Cannot be used with \"contour_levels_range\".</p>\n",
    "\n",
    "<h4>contour_levels_range</h4>\n",
    "<p>The contour range that will be used for plots.</p>\n",
    "<p>Values are min, max, and stride.</p>\n",
    "<p>Cannot be used with \"contour_levels\".</p>\n",
    "\n",
    "<h4>diff_colormap</h4> \n",
    "<p>The colormap that will be used for filled contour different plots</p>\n",
    "\n",
    "<h4>diff_contour_levels</h4>\n",
    "<p>A list of the specific contour values thta will be used for difference plots.</p>\n",
    "<p>Cannot be used with \"diff_contour_range\".</p>\n",
    "\n",
    "<h4>diff_contour_range</h4>\n",
    "<p>The contour range that will be used for difference plots.</p>\n",
    "<p>Values are min, max, and stride. Cannot be used with \"diff_contour_levels\".</p>\n",
    "\n",
    "<h4>scale_factor</h4>\n",
    "<p>Amount to scale the variable (relative to its \"raw\" model values).</p>\n",
    "\n",
    "<h4>add_offset</h4>\n",
    "<p>Amount of offset to add to the variable (relatie to its \"raw\" model values).</p>\n",
    "\n",
    "<h4>new_unit</h4>\n",
    "<p>Variable units (if not using the  \"raw\" model units).</p>\n",
    "\n",
    "<h4>mpl</h4>\n",
    "<p>Dictionary that contains keyword arguments explicitly for matplotlib</p>\n",
    "\n",
    "<h4>mask</h4>\n",
    "<p>Setting that specifies whether the variable should be masked.</p>\n",
    "<p>Currently only accepts \"ocean\", which means the variable will be masked everywhere that isn't open ocean.</p>"
   ]
  },
  {
   "cell_type": "markdown",
   "id": "76466060-cbf7-4c3e-8d6b-0de971a36ba2",
   "metadata": {},
   "source": [
    "##### Observations:\n",
    "\n",
    "<h4>obs_file</h4>\n",
    "<p>Path to observations file.</p>\n",
    "<p>If only the file name is given, then the file is assumed to exist in the path specified by \"obs_data_loc\" in the config file.</p>\n",
    "\n",
    "<h4>obs_name</h4>\n",
    "<p>Name of the observational dataset (mostly used for plotting and generated file naming).</p>\n",
    "<p>If this isn't present then the obs_file name is used.</p>\n",
    "\n",
    "<h4>obs_var_name</h4>\n",
    "<p>Variable in the observations file to compare against.</p>\n",
    "<p>If this isn't present then the variable name is assumed to be the same as the model variable name.</p>"
   ]
  },
  {
   "cell_type": "markdown",
   "id": "abf396e9-173d-4cfd-b7dd-0ee0e20f35ff",
   "metadata": {},
   "source": [
    "##### Vector:\n",
    "\n",
    "<h4>vector_pair</h4>\n",
    "<p>Another variable that when combined with the given variable makes up a vector pair.</p>\n",
    "<p>If this default is not present then it is assumed the given variable is not a vector component, and will thus be skipped during the vector plotting phase.</p>\n",
    "<h4>vector_name</h4>\n",
    "<p>The name of the vector the variable is associated with, which will be used to title the respective vector plot(s).</p>"
   ]
  },
  {
   "cell_type": "markdown",
   "id": "cd45f781-3b67-4b7c-bbe1-b2e8ad35c82d",
   "metadata": {},
   "source": [
    "##### Website:\n",
    "\n",
    "##### ```category```\n",
    "\n",
    "<p>The website category the variable will be placed under.</p>"
   ]
  },
  {
   "cell_type": "markdown",
   "id": "0e63245a-0ffa-41aa-b002-9196dd974acc",
   "metadata": {},
   "source": [
    "```{Warning}\n",
    "Final Note:  Please do not modify this file unless you plan to push your changes back to the ADF repo.\n",
    "             If you would like to modify this file for your personal ADF runs then it is recommended\n",
    "             to make a copy of this file, make modifications in that copy, and then point the ADF to\n",
    "             it using the \"defaults_file\" config variable.\n",
    "```"
   ]
  }
 ],
 "metadata": {
  "kernelspec": {
   "display_name": "Python 3 (ipykernel)",
   "language": "python",
   "name": "python3"
  },
  "language_info": {
   "codemirror_mode": {
    "name": "ipython",
    "version": 3
   },
   "file_extension": ".py",
   "mimetype": "text/x-python",
   "name": "python",
   "nbconvert_exporter": "python",
   "pygments_lexer": "ipython3",
   "version": "3.9.12"
  }
 },
 "nbformat": 4,
 "nbformat_minor": 5
}
