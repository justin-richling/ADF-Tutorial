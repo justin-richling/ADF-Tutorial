{
 "cells": [
  {
   "cell_type": "markdown",
   "id": "368c3c2a-ba99-413c-a849-bcd7f431f365",
   "metadata": {},
   "source": [
    "# What is the ADF"
   ]
  },
  {
   "cell_type": "markdown",
   "id": "6b97f290-5607-4554-b727-4befffe5ac27",
   "metadata": {},
   "source": [
    "**<u>AMWG</u>** (Atmospheric Model Working Group) <u>**D**</u>iagnostics <u>**F**</u>ramework"
   ]
  },
  {
   "cell_type": "markdown",
   "id": "77f2ac18-89eb-4aab-8b43-960f35d7a0c0",
   "metadata": {},
   "source": [
    "This package is meant to be an update/upgrade to the much used and beloved AMWG diagnostics package used by the atmospheric/chemistry CESM community."
   ]
  },
  {
   "cell_type": "markdown",
   "id": "26dbb52c-2a7d-452a-8936-0bb5627e7d7a",
   "metadata": {},
   "source": [
    "The ADF is still under active development and is near it's first major version. "
   ]
  },
  {
   "cell_type": "markdown",
   "id": "6ac79f0c-f130-4bd8-a273-b47865cb98e5",
   "metadata": {},
   "source": [
    "<div class=\"admonition\">\n",
    "<p>Some **content**</p>\n",
    "  <div class=\"admonition tip\" style=\"color:green\">\n",
    "  <div class=\"title\">A *title*</div>\n",
    "  <p>Paragraph 1</p>\n",
    "  <p>Paragraph 2</p>\n",
    "  </div>\n",
    "</div>"
   ]
  },
  {
   "cell_type": "markdown",
   "id": "47ac45d9-8d76-4977-9199-ffe1200ed241",
   "metadata": {},
   "source": [
    "<div class=\"admonition\" style=\"background-color:#000000;\">\n",
    "<p>Some **content**</p>\n",
    "  <div class=\"admonition error\" style=\"color:green\">\n",
    "  <div class=\"title\">Oh jeez, I hope this worked...</div>\n",
    "  <p>Paragraph 1</p>\n",
    "  <p>Paragraph 2</p>\n",
    "  </div>\n",
    "</div>"
   ]
  },
  {
   "cell_type": "raw",
   "id": "289674b9-e9c7-47a7-a53c-aa424319095a",
   "metadata": {},
   "source": [
    "```{success}\n",
    "s-u-c-c-e-s-s that's the way you spell success...\n",
    "```"
   ]
  },
  {
   "cell_type": "markdown",
   "id": "e16c70b2-25ed-46ff-9e8f-aa225d325b11",
   "metadata": {},
   "source": [
    "```{tip}\n",
    "Arrrrgggg.....\n",
    "```"
   ]
  },
  {
   "cell_type": "markdown",
   "id": "ac306ba2-4a96-48d3-9a9d-fe8f8157d04a",
   "metadata": {},
   "source": [
    "```{hint}\n",
    "Don't be dumb\n",
    "```"
   ]
  }
 ],
 "metadata": {
  "kernelspec": {
   "display_name": "Python 3 (ipykernel)",
   "language": "python",
   "name": "python3"
  },
  "language_info": {
   "codemirror_mode": {
    "name": "ipython",
    "version": 3
   },
   "file_extension": ".py",
   "mimetype": "text/x-python",
   "name": "python",
   "nbconvert_exporter": "python",
   "pygments_lexer": "ipython3",
   "version": "3.9.12"
  }
 },
 "nbformat": 4,
 "nbformat_minor": 5
}
