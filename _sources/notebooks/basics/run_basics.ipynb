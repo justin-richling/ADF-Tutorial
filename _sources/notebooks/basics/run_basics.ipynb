{
 "cells": [
  {
   "cell_type": "markdown",
   "id": "92a6a3e1-ef13-4fa3-a936-8260c5786904",
   "metadata": {},
   "source": [
    "# ADF Run\n",
    "\n",
    "If you have a set of simulations you want to try the ADF out on, let's get you set up!\n",
    "\n"
   ]
  },
  {
   "cell_type": "markdown",
   "id": "25e0ca96-0641-4f3e-9cc0-d5a7514011a9",
   "metadata": {},
   "source": []
  },
  {
   "cell_type": "markdown",
   "id": "77c65384-e289-48a0-aa14-39d5c30edaba",
   "metadata": {},
   "source": [
    "0. Make sure your ADF clone is the most up to date version\n",
    "\n",
    "* Go to where you installed the ADF and run `git pull origin main`\n",
    "\n",
    "1. make a copy of the config_cam_baseline_example.yaml file, feel free to name it something that makes sense to you. The yaml files are in the root folder of where you installed the ADF.\n",
    "\n",
    "2. open that copied file and the main sections you'll want to change are:\n",
    "<p>user - use your NCAR username\n",
    "<p>diag_basic_info - this is where you'll set some main run variables, the ones I usually change are:\n",
    "<p>compare_obs - set true/false depending which run you want\n",
    "<p>cam_regrid_loc - where the regridded files for the cases in this ADF run will be saved, you can change or use the default location, just take note\n",
    "<p>cam_diag_loc - where the diagnostic plots will be saved, again, you can change or use default\n",
    "<p>diag_cam_climo - for the experiment case (test), the ones I change are:\n",
    "<p>cam_case_name - just the name of the case run\n",
    "<p>cam_hist_loc - where the h# history files live\n",
    "<p>case_nickname - anything that would be easier than the case name if you want, it will default to the case name if left blank\n",
    "<p>start/end_years - climo years desired\n",
    "<p>cam_climo_loc - where you want climo files saved\n",
    "<p>cam_ts_loc  - where you want time series files saved\n",
    "\n",
    "<p>diag_cam_baseline_climo - same exact variables as the diag_cam_climo above, just set for the control (baseline) case. If using Obs, just ignore this section</p>\n",
    "\n",
    "Then at the end of the config file are the plots and variables, set these as you like!\n",
    "Then you can make a copy of this new yaml file and change the obs flag for your vs Obs run.\n",
    "\n",
    "3. To run the ADF (from the ADF root path) in a terminal just run: ./run_adf_diag your_new_yaml_file.yaml"
   ]
  },
  {
   "cell_type": "markdown",
   "id": "5d431d7c-fbab-4634-aa07-0c115ba3eca0",
   "metadata": {},
   "source": [
    "If you want to explore more guided and detailed examples skip to the <a href=\"\"><strong>GUIDED EXAMPLES</strong></a> section for step by step setup for provided sample data."
   ]
  },
  {
   "cell_type": "markdown",
   "id": "ac379956-885f-4ce1-98a6-e1207a947ae0",
   "metadata": {},
   "source": [
    "### Check the ADF output\n",
    "\n",
    "If your ADF run completes there are a couple ways to explore the output plots\n",
    "\n",
    "<h4>Locally</h4>\n",
    "\n",
    "If the ADF ran successfully, we can navigate to where we set the diagnostic plots output:\n",
    "\n",
    "`````{div} full-width\n",
    "\n",
    "&ensp;On a CISL machine, navigate to the root ADF directory\n",
    "\n",
    "<code class=\"docutils literal notranslate\"><span class=\"pre\">&emsp;/glade/scratch/&#60;user&#62;/ADF/plots/</span></code>\n",
    "\n",
    "&ensp;Then go to where you assigned the `cam_diag_plot_loc` location in the run-time config file\n",
    "\n",
    "<code class=\"docutils literal notranslate\"><span class=\"pre\">&emsp;f.cam6_3_106.FLTHIST_v0a.ne30.dcs_non-ogw.001_1995_2000_vs_f.cam6_3_106.FLTHIST_v0a.ne30.dcs_effgw_rdg.001_1995_2000/</span></code>\n",
    "\n",
    "`````\n",
    "\n",
    "\n"
   ]
  },
  {
   "cell_type": "markdown",
   "id": "ecaea2fd-092d-4c75-acf6-327f09feee6b",
   "metadata": {},
   "source": [
    "<h4>JupyterHub</h4>\n",
    "\n",
    "apidfjwd"
   ]
  },
  {
   "cell_type": "markdown",
   "id": "d1e63feb-6b46-4bc9-8012-04e16b0e0390",
   "metadata": {},
   "source": [
    "<h4>Website</h4>\n",
    "\n",
    "If you choose to create HTML files you can publish those to a web server. In the diagnostics plotting location (<code class=\"docutils literal notranslate\"><span class=\"pre\">cam_diag_plot_loc</span></code>) you set in the run-time config file, a `website` directory exists where all the html and css files are saved.\n",
    "\n",
    "`````{div} full-width\n",
    "    .\n",
    "    ├── plots\n",
    "    │   └── f.cam6_3_106.FLTHIST_v0a.ne30.dcs_non-ogw.001_1995_2000_vs_f.cam6_3_106.FLTHIST_v0a.ne30.dcs_effgw_rdg.001_1995_2000\n",
    "    │       └── website\n",
    "    │           ├── assets\n",
    "    │           ├── html_img\n",
    "    │           ├── html_table\n",
    "    │           └── templates\n",
    "`````\n",
    "\n"
   ]
  },
  {
   "cell_type": "markdown",
   "id": "61ce7cc8-d504-4681-974c-2d14bbff3c3e",
   "metadata": {},
   "source": [
    "Example: If you have a project page on a CGD machine like Tungsten, it is a simple secure copy of files to the server:\n",
    "\n",
    "<style>\n",
    "    #box {\n",
    "    word-wrap:normal;\n",
    "    overflow:scroll;\n",
    "}\n",
    "</style>\n",
    "\n",
    "\n",
    "&ensp;Navigate to the `cam_diag_plot_loc` location and copy all the files from the `website` directory to the server address:\n",
    "\n",
    "&emsp;For Tungsten:\n",
    "&emsp;    <code class=\"docutils literal notranslate\"><span class=\"pre\" style=\"color: black;\">scp -r website/* tungsten.cgd.ucar.edu:/path/to/your/project/page/</span></code>)\n",
    "\n",
    "\n",
    "<div class=\"admonition tip\" style=\"padding-right: 7px\">\n",
    "<div><h6>A sample website:</h6></div>\n",
    "<p><a href=\"https://project.cgd.ucar.edu/projects/ADF/examples/single-case/cam_vs_cam/\" target=\"_blank\">https://project.cgd.ucar.edu/projects/ADF/examples/single-case/cam_vs_cam/</a></p>\n",
    "</div>\n"
   ]
  }
 ],
 "metadata": {
  "kernelspec": {
   "display_name": "Python 3 (ipykernel)",
   "language": "python",
   "name": "python3"
  },
  "language_info": {
   "codemirror_mode": {
    "name": "ipython",
    "version": 3
   },
   "file_extension": ".py",
   "mimetype": "text/x-python",
   "name": "python",
   "nbconvert_exporter": "python",
   "pygments_lexer": "ipython3",
   "version": "3.9.12"
  }
 },
 "nbformat": 4,
 "nbformat_minor": 5
}
