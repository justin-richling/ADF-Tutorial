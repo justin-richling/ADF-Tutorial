{
 "cells": [
  {
   "cell_type": "markdown",
   "id": "3daa9f7f-12d6-439c-8ec2-d9fafcd43412",
   "metadata": {},
   "source": [
    "# Setting up <strong>your</strong> ADF run\n",
    "\n",
    "If you have a case or cases you want to run the ADF with, this section will help with a basic setup and run. This will include basic information about the configuration yaml files and how to run the ADF for your cases!\n",
    "\n",
    "* YAML basics\n",
    "* ADF Runs"
   ]
  }
 ],
 "metadata": {
  "kernelspec": {
   "display_name": "Python 3 (ipykernel)",
   "language": "python",
   "name": "python3"
  },
  "language_info": {
   "codemirror_mode": {
    "name": "ipython",
    "version": 3
   },
   "file_extension": ".py",
   "mimetype": "text/x-python",
   "name": "python",
   "nbconvert_exporter": "python",
   "pygments_lexer": "ipython3",
   "version": "3.9.12"
  }
 },
 "nbformat": 4,
 "nbformat_minor": 5
}
