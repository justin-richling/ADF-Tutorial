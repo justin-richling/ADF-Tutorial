{
 "cells": [
  {
   "cell_type": "markdown",
   "id": "3daa9f7f-12d6-439c-8ec2-d9fafcd43412",
   "metadata": {},
   "source": [
    "# Some basic info about the ADF and the setups\n",
    "\n",
    "* yaml basics\n",
    "* "
   ]
  },
  {
   "cell_type": "code",
   "execution_count": null,
   "id": "6f802836-fbe4-4c09-8563-06cfc7e6bb8a",
   "metadata": {},
   "outputs": [],
   "source": []
  }
 ],
 "metadata": {
  "kernelspec": {
   "display_name": "Python 3 (ipykernel)",
   "language": "python",
   "name": "python3"
  },
  "language_info": {
   "codemirror_mode": {
    "name": "ipython",
    "version": 3
   },
   "file_extension": ".py",
   "mimetype": "text/x-python",
   "name": "python",
   "nbconvert_exporter": "python",
   "pygments_lexer": "ipython3",
   "version": "3.9.12"
  }
 },
 "nbformat": 4,
 "nbformat_minor": 5
}
