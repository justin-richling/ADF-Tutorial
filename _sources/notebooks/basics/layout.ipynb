{
 "cells": [
  {
   "cell_type": "markdown",
   "id": "7b19663f",
   "metadata": {},
   "source": [
    "# ADF Layout\n",
    "\n",
    "A simple look at how the ADF works"
   ]
  },
  {
   "cell_type": "markdown",
   "id": "4f6bafeb-cf73-4f7f-b6fc-c0c3ee2c90b1",
   "metadata": {},
   "source": [
    "![Running on Cheyenne Image](../../images/adf_tree_layout.png)"
   ]
  },
  {
   "cell_type": "code",
   "execution_count": null,
   "id": "cee22321-f5a9-45d3-b184-182844f8a47d",
   "metadata": {},
   "outputs": [],
   "source": []
  }
 ],
 "metadata": {
  "kernelspec": {
   "display_name": "Python 3 (ipykernel)",
   "language": "python",
   "name": "python3"
  },
  "language_info": {
   "codemirror_mode": {
    "name": "ipython",
    "version": 3
   },
   "file_extension": ".py",
   "mimetype": "text/x-python",
   "name": "python",
   "nbconvert_exporter": "python",
   "pygments_lexer": "ipython3",
   "version": "3.9.12"
  }
 },
 "nbformat": 4,
 "nbformat_minor": 5
}
