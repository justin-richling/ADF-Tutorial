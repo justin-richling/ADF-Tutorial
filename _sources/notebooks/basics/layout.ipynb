{
 "cells": [
  {
   "cell_type": "markdown",
   "id": "7b19663f",
   "metadata": {},
   "source": [
    "# ADF Layout\n",
    "\n",
    "A simple look at how the ADF works"
   ]
  },
  {
   "cell_type": "markdown",
   "id": "a51ca8b4-3acf-41fd-a6fe-a1bd98add3ff",
   "metadata": {},
   "source": [
    "├── config_amwg_default_plots.yaml\n",
    "├── config_cam_baseline_example.yaml\n",
    "├── env\n",
    "    ├── conda_environment.yaml\n",
    "├── jupyter_sample.ipynb\n",
    "├── lib\n",
    "    ├── adf_base.py\n",
    "    ├── adf_config.py\n",
    "    ├── adf_diag.py\n",
    "    ├── adf_info.py\n",
    "    ├── adf_obs.py\n",
    "    ├── adf_variable_defaults.yaml\n",
    "    ├── adf_web.py\n",
    "    ├── plotting_functions.py\n",
    "    ├── test\n",
    "        ├── pylintrc\n",
    "        ├── unit_tests\n",
    "            ├── pytest.ini\n",
    "            ├── test_adf_base.py\n",
    "            ├── test_adf_config.py\n",
    "            ├── test_files\n",
    "                ├── config_cam_double_nested.yaml\n",
    "                ├── config_cam_keywords.yaml\n",
    "                ├── config_cam_unset_var.yaml\n",
    "    ├── website_templates\n",
    "        ├── adf_diag.css\n",
    "        ├── NCAR.gif\n",
    "        ├── template.html\n",
    "        ├── template_index.html\n",
    "        ├── template_mean_diag.html\n",
    "        ├── template_mean_tables.html\n",
    "        ├── template_multi_case.html\n",
    "        ├── template_multi_case_index.html\n",
    "        ├── template_multi_case_mean_diag.html\n",
    "        ├── template_multi_case_var.html\n",
    "        ├── template_table.html\n",
    "        ├── template_var.html\n",
    "├── LICENSE\n",
    "├── README.md\n",
    "├── run_adf_diag\n",
    "├── scripts\n",
    "    ├── analysis\n",
    "        ├── amwg_table.py\n",
    "    ├── averaging\n",
    "         ├── create_climo_files.py\n",
    "    ├── plotting\n",
    "         ├── cam_taylor_diagram.py\n",
    "         ├── global_latlon_map.py\n",
    "         ├── global_latlon_vect_map.py\n",
    "         ├── meridional_mean.py\n",
    "         ├── polar_map.py\n",
    "         ├── qbo.py\n",
    "         ├── regional_map_multicase.py\n",
    "         ├── time_series.py\n",
    "         ├── zonal_mean.py\n",
    "    ├── regridding\n",
    "        ├── regrid_and_vert_interp.py"
   ]
  },
  {
   "cell_type": "code",
   "execution_count": null,
   "id": "8fb12917-18ab-41d2-92b8-031c7e540494",
   "metadata": {},
   "outputs": [],
   "source": []
  }
 ],
 "metadata": {
  "kernelspec": {
   "display_name": "Python 3 (ipykernel)",
   "language": "python",
   "name": "python3"
  },
  "language_info": {
   "codemirror_mode": {
    "name": "ipython",
    "version": 3
   },
   "file_extension": ".py",
   "mimetype": "text/x-python",
   "name": "python",
   "nbconvert_exporter": "python",
   "pygments_lexer": "ipython3",
   "version": "3.9.12"
  }
 },
 "nbformat": 4,
 "nbformat_minor": 5
}
