{
 "cells": [
  {
   "cell_type": "markdown",
   "id": "0a8d9910",
   "metadata": {},
   "source": [
    "## Cam vs Obs/Reanalysis\n"
   ]
  },
  {
   "cell_type": "markdown",
   "id": "47ac6aeb-af6b-4f07-8878-609903052aeb",
   "metadata": {},
   "source": [
    "For this example we will run the ADF diagnostics for two different CAM simulations for a 5 years, 1995-2000\n",
    "\n",
    "The test (experiment) case is `f.cam6_3_106.FLTHIST_v0a.ne30.dcs_non-ogw.001`\n",
    "\n",
    "The baseline (control) case will be a designated set of observations/reanalysis\n",
    "\n",
    "What needs to be done is to change a couple of variables in your copy of the config run-time yaml file (your_config.yaml)"
   ]
  },
  {
   "cell_type": "markdown",
   "id": "946709ea-e5a2-481b-ab00-c6d72008c49f",
   "metadata": {},
   "source": [
    "From the ADF root directory you can just copy the config file you made for CAM vs CAM.\n",
    "\n",
    "    cp config_cam_vs_cam.yaml config_cam_vs_obs.yaml"
   ]
  },
  {
   "cell_type": "markdown",
   "id": "a88cca86-fb11-450d-9305-5d649a35f1a6",
   "metadata": {},
   "source": [
    "Open the new `config_cam_vs_obs.yaml` file with your favorite editor again\n",
    "\n",
    "The only subsection that has variables that will be changed:\n",
    "\n",
    "* <p style=\"margin-top: -5px;\"><a href=\"https://justin-richling.github.io/ADF-Tutorial/notebooks/run/model_vs_model.html#diag-basic-info\">diag_basic_info</a></p>\n",
    "\n",
    "All the info from the CAM vs CAM case for the test case () will be copied over, so it's just the diag_basic_info that needs to be changed. "
   ]
  },
  {
   "cell_type": "markdown",
   "id": "7bc0cb37-0263-40ee-ba09-c3a211f5f12b",
   "metadata": {},
   "source": [
    "###### diag_basic_info\n",
    "\n",
    "If you use the ADF default observation files, there is only one thing to change:\n",
    "\n",
    "Change to compare against observations\n",
    "\n",
    "<p style=\"margin-top: -5px;\">&ensp; compare_obs: <code class=\"docutils literal notranslate\"><span class=\"pre\">true</span></code></p>\n",
    "\n",
    "`/glade/work/nusbaume/SE_projects/model_diagnostics/ADF_obs`\n",
    "\n",
    "If you want to provide a location for a different set of observations than the ADF default ones, one further step is required:\n",
    "\n",
    "Change the location of obs files\n",
    "\n",
    "<p style=\"margin-top: -5px;\">&ensp; obs_data_loc: <code class=\"docutils literal notranslate\"><span class=\"pre\">/path/to/your/obs/</span></code></p>\n",
    "\n",
    "```{Note}\n",
    "This only matters if the path isn't specified in the variable defaults file.\n",
    "\n",
    "In the <a href=\"https://justin-richling.github.io/ADF-Tutorial/notebooks/intro/yaml/adf_variable_defaults.html\">variable defaults file</a> each variable can be assigned a specific obs file from any given path different from what is being set here.\n",
    "\n",
    "Example of custom location for Boundary Layer obs file\n",
    "\n",
    "<div>\n",
    "<p>PBLH:\n",
    "<p style=\"margin-top: -20px; font-family:georgia,garamond,serif;\">&ensp;   category:  \"Surface variables\"\n",
    "<p style=\"margin-top: -20px; font-family:georgia,garamond,serif;\">&ensp;   <span style=\"background-color: #FFFF00\">obs_file: \"/path/to/my/ADF_obs/Some_PBLH_climo.nc\"</span>\n",
    "<p style=\"margin-top: -20px; font-family:georgia,garamond,serif;\">&ensp;   obs_name: \"SOME_OBS\"\n",
    "<p style=\"margin-top: -20px; font-family:georgia,garamond,serif;\">&ensp;   obs_var_name: \"PBLH\"\n",
    "</div>\n",
    "<br>\n",
    "\n",
    "For PBLH, the ADF will use <code class=\"docutils literal notranslate\"><span class=\"pre\">/path/to/my/ADF_obs/Some_PBLH_climo.nc</span></code> instead of default\n",
    "\n",
    "<p>It will override the location given by <code class=\"docutils literal notranslate\"><span class=\"pre\">obs_data_loc</span></code></p>\n",
    "\n",
    "```\n",
    "\n"
   ]
  },
  {
   "cell_type": "raw",
   "id": "7497426c-fbbc-48f9-a979-b00b5e781799",
   "metadata": {},
   "source": [
    " /glade/work/nusbaume/SE_projects/model_diagnostics/ADF_obs/PBLH_ERA5_monthly_climo_197901-202112.nc"
   ]
  }
 ],
 "metadata": {
  "kernelspec": {
   "display_name": "NPL-3.7.9",
   "language": "python",
   "name": "npl-3.7.9"
  },
  "language_info": {
   "codemirror_mode": {
    "name": "ipython",
    "version": 3
   },
   "file_extension": ".py",
   "mimetype": "text/x-python",
   "name": "python",
   "nbconvert_exporter": "python",
   "pygments_lexer": "ipython3",
   "version": "3.7.9"
  }
 },
 "nbformat": 4,
 "nbformat_minor": 5
}
