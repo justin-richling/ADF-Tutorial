{
 "cells": [
  {
   "cell_type": "markdown",
   "id": "0a8d9910",
   "metadata": {},
   "source": [
    "# Running ADF via Jupyter\n",
    "\n",
    "In addition to running the ADF in the terminal, it can also be run in Jupyter Notebooks!\n",
    "\n",
    "Since NCAR has a JupyterHub account, we can either <a href=\"https://justin-richling.github.io/ADF-Tutorial/notebooks/run/Jupyter/jupyter_adf_run.html\">run the ADF via Jupyter</a> or <a href=\"https://justin-richling.github.io/ADF-Tutorial/notebooks/run/Jupyter/jupyter_adf_analysis.html\">analyze already run ADF diagnostics</a> in Jupyter too! Holy Cow.\n",
    "\n",
    "\n"
   ]
  },
  {
   "cell_type": "markdown",
   "id": "b1d22a1c-2f4a-4cff-a02a-a99ff249e47e",
   "metadata": {},
   "source": []
  },
  {
   "cell_type": "markdown",
   "id": "3e0f41b2-5152-45ff-80fc-8d5a10a89253",
   "metadata": {},
   "source": []
  }
 ],
 "metadata": {
  "kernelspec": {
   "display_name": "NPL-3.7.9",
   "language": "python",
   "name": "npl-3.7.9"
  },
  "language_info": {
   "codemirror_mode": {
    "name": "ipython",
    "version": 3
   },
   "file_extension": ".py",
   "mimetype": "text/x-python",
   "name": "python",
   "nbconvert_exporter": "python",
   "pygments_lexer": "ipython3",
   "version": "3.7.9"
  }
 },
 "nbformat": 4,
 "nbformat_minor": 5
}
