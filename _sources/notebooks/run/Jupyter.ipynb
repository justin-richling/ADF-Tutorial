{
 "cells": [
  {
   "cell_type": "markdown",
   "id": "63f86305-a049-4dbe-8516-6bd617582637",
   "metadata": {},
   "source": [
    "# Running ADF via Jupyter\n",
    "\n",
    "In addition to running the ADF in the terminal, it can also be run in Jupyter Notebooks!\n",
    "\n",
    "Since NCAR has a JupyterHub account, we can either run the ADF via Jupyter or just analyze already run ADF diagnostics in Jupyter too! Holy Cow."
   ]
  }
 ],
 "metadata": {
  "kernelspec": {
   "display_name": "NPL-3.7.9",
   "language": "python",
   "name": "npl-3.7.9"
  },
  "language_info": {
   "codemirror_mode": {
    "name": "ipython",
    "version": 3
   },
   "file_extension": ".py",
   "mimetype": "text/x-python",
   "name": "python",
   "nbconvert_exporter": "python",
   "pygments_lexer": "ipython3",
   "version": "3.7.9"
  }
 },
 "nbformat": 4,
 "nbformat_minor": 5
}
