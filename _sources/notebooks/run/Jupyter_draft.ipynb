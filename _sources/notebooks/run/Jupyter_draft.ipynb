{
 "cells": [
  {
   "cell_type": "markdown",
   "id": "63f86305-a049-4dbe-8516-6bd617582637",
   "metadata": {},
   "source": [
    "# Running ADF via Jupyter\n",
    "\n",
    "In addition to running the ADF in the terminal, it can also be run in Jupyter Notebooks!\n",
    "\n",
    "Since NCAR has a JupyterHub account, we can either run the ADF via Jupyter or just analyze already run ADF diagnostics in Jupyter too! Holy Cow."
   ]
  },
  {
   "cell_type": "code",
   "execution_count": null,
   "id": "7842d55a-f0a7-48b6-93eb-77316b262575",
   "metadata": {},
   "outputs": [],
   "source": [
    "# You can change the path to ADF (git branch) so it can be different than the\n",
    "# current location\n",
    "\n",
    "#adf_path = \"/path/to/your/ADF\"\n",
    "adf_path = \"/glade/work/richling/ADF/ADF_dev/Justin_ADF/ADF\"\n",
    "\n",
    "print(f\"current working directory = {local_path}\")\n",
    "print(f\"ADF path                  = {adf_path}\")"
   ]
  },
  {
   "cell_type": "code",
   "execution_count": null,
   "id": "f2e7280a-fc75-4bee-8d30-d46d963d643f",
   "metadata": {},
   "outputs": [],
   "source": [
    "#set path to ADF lib\n",
    "lib_path = os.path.join(adf_path,\"lib\")\n",
    "print(f\"The lib scripts live here, right? {lib_path}\")\n",
    "\n",
    "#set path to ADF plotting scripts directory\n",
    "plotting_scripts_path = os.path.join(adf_path,\"scripts\",\"plotting\")\n",
    "print(f\"The plotting scripts live here, right? {plotting_scripts_path}\")\n",
    "\n",
    "#Add paths to python path:\n",
    "sys.path.append(lib_path)\n",
    "sys.path.append(plotting_scripts_path)"
   ]
  },
  {
   "cell_type": "code",
   "execution_count": null,
   "id": "1ea68808-e9ab-4fb7-a0fc-05aa314182b9",
   "metadata": {},
   "outputs": [],
   "source": [
    "#import ADF diagnostics object\n",
    "from adf_diag import AdfDiag\n",
    "\n",
    "# If this fails, check your paths output in the cells above,\n",
    "# and that you are running the NPL (conda) Kernel\n",
    "# You can see all the paths being examined by un-commenting the following:\n",
    "#sys.path"
   ]
  },
  {
   "cell_type": "code",
   "execution_count": null,
   "id": "214e0355-9519-42f0-a98f-ad6298b4e19b",
   "metadata": {},
   "outputs": [],
   "source": [
    "# Set path for config YAML file\n",
    "#config_path = \"/path/to/your/yaml/file/\"\n",
    "config_path = \"/glade/work/richling/ADF/adf-tutorials/ADF-Tutorial/config_files/\"\n",
    "\n",
    "# Set name of config YAML file:\n",
    "config_fil_str = \"config_model_vs_model_single.yaml\"\n",
    "\n",
    "# Make full path to config file\n",
    "config_file=os.path.join(config_path,config_fil_str)"
   ]
  },
  {
   "cell_type": "code",
   "execution_count": null,
   "id": "bcad1642-93ac-4dec-8dfd-2aca7fb0d6de",
   "metadata": {},
   "outputs": [],
   "source": [
    "#Initialize ADF object with config file\n",
    "adf = AdfDiag(config_file)\n",
    "adf"
   ]
  },
  {
   "cell_type": "code",
   "execution_count": null,
   "id": "7f8fa3cc-188e-442f-9149-4a7fc74a3465",
   "metadata": {},
   "outputs": [],
   "source": []
  },
  {
   "cell_type": "code",
   "execution_count": null,
   "id": "e4b180b9-6c61-40bf-9829-3a66b8bf0d03",
   "metadata": {},
   "outputs": [],
   "source": []
  },
  {
   "cell_type": "code",
   "execution_count": null,
   "id": "01e6fb86-8996-4ce0-9a62-001d829b8693",
   "metadata": {},
   "outputs": [],
   "source": []
  },
  {
   "cell_type": "code",
   "execution_count": null,
   "id": "7f41bd78-a3cb-4307-a039-285063228ec7",
   "metadata": {},
   "outputs": [],
   "source": []
  },
  {
   "cell_type": "code",
   "execution_count": null,
   "id": "5704cc51-def1-4298-98c0-7535d8e046fd",
   "metadata": {},
   "outputs": [],
   "source": []
  },
  {
   "cell_type": "code",
   "execution_count": null,
   "id": "d18a9f8a-ccc6-4eaf-94ea-efa54afc94a7",
   "metadata": {},
   "outputs": [],
   "source": []
  },
  {
   "cell_type": "code",
   "execution_count": null,
   "id": "0e2d32fc-0089-4d21-801a-29588495d06d",
   "metadata": {},
   "outputs": [],
   "source": []
  },
  {
   "cell_type": "code",
   "execution_count": null,
   "id": "58c8cebf-1f1e-4a51-9598-4d8335699dfa",
   "metadata": {},
   "outputs": [],
   "source": []
  },
  {
   "cell_type": "code",
   "execution_count": null,
   "id": "907619f8-ae32-4056-a42c-7b86b938b79b",
   "metadata": {},
   "outputs": [],
   "source": []
  },
  {
   "cell_type": "code",
   "execution_count": null,
   "id": "34150f08-45ae-4fc4-b127-14ff23b4d7a5",
   "metadata": {},
   "outputs": [],
   "source": []
  },
  {
   "cell_type": "code",
   "execution_count": null,
   "id": "a3678fe1-0fbf-4d54-9af6-db8a8a8813ea",
   "metadata": {},
   "outputs": [],
   "source": []
  },
  {
   "cell_type": "code",
   "execution_count": null,
   "id": "055abe24-44fc-4d5a-a933-98ed35169964",
   "metadata": {},
   "outputs": [],
   "source": []
  },
  {
   "cell_type": "code",
   "execution_count": null,
   "id": "fb175b48-5a8b-4397-b0b7-667dbcc4a2ee",
   "metadata": {},
   "outputs": [],
   "source": []
  }
 ],
 "metadata": {
  "kernelspec": {
   "display_name": "NPL-3.7.9",
   "language": "python",
   "name": "npl-3.7.9"
  },
  "language_info": {
   "codemirror_mode": {
    "name": "ipython",
    "version": 3
   },
   "file_extension": ".py",
   "mimetype": "text/x-python",
   "name": "python",
   "nbconvert_exporter": "python",
   "pygments_lexer": "ipython3",
   "version": "3.7.9"
  }
 },
 "nbformat": 4,
 "nbformat_minor": 5
}
