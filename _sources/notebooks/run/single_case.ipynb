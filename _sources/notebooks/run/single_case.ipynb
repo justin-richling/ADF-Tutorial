{
 "cells": [
  {
   "cell_type": "markdown",
   "id": "63529964-f86d-4ab4-91e8-e061277cf7c4",
   "metadata": {},
   "source": [
    "# Single Case Comparison"
   ]
  },
  {
   "cell_type": "markdown",
   "id": "bf9f642a-a579-49be-b538-6d13a12f0763",
   "metadata": {},
   "source": [
    "You will need to open the config runtime yaml file with your favorite editor and edit the following variables:\n",
    "\n",
    "<p>diag_basic_info</p>\n",
    "<a>compare_obs</a>\n",
    "<a>cam_regrid_loc</a>\n",
    "<a>cam_diag_plot_loc</a>\n",
    "<a>use_defaults</a>\n",
    "\n",
    "<p>diag_cam_climo</p>\n",
    "<a>cam_case_name</a>\n",
    "<a>cam_hist_loc</a>\n",
    "<a>cam_climo_loc</a>\n",
    "<a>start_year</a>\n",
    "<a>end_year</a>\n",
    "<a>cam_ts_loc</a>\n",
    "\n",
    "<p>diag_cam_baseline_climo</p>\n",
    "<a>cam_case_name</a>\n",
    "<a>cam_hist_loc</a>\n",
    "<a>cam_climo_loc</a>\n",
    "<a>start_year</a>\n",
    "<a>end_year</a>\n",
    "<a>cam_ts_loc</a>"
   ]
  }
 ],
 "metadata": {
  "kernelspec": {
   "display_name": "NPL (conda)",
   "language": "python",
   "name": "npl-conda"
  },
  "language_info": {
   "codemirror_mode": {
    "name": "ipython",
    "version": 3
   },
   "file_extension": ".py",
   "mimetype": "text/x-python",
   "name": "python",
   "nbconvert_exporter": "python",
   "pygments_lexer": "ipython3",
   "version": "3.8.13"
  }
 },
 "nbformat": 4,
 "nbformat_minor": 5
}
