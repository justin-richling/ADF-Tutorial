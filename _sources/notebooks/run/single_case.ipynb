{
 "cells": [
  {
   "cell_type": "markdown",
   "id": "63529964-f86d-4ab4-91e8-e061277cf7c4",
   "metadata": {},
   "source": [
    "# Single Case Comparison"
   ]
  },
  {
   "cell_type": "markdown",
   "id": "bf9f642a-a579-49be-b538-6d13a12f0763",
   "metadata": {},
   "source": [
    "You will need to open the config runtime yaml file with your favorite editor and edit the following variables:\n",
    "\n",
    "##### diag_basic_info\n",
    "    \n",
    "<p>compare_obs: <code class=\"docutils literal notranslate\"><span class=\"pre\">false</span></code></p>\n",
    "<p>cam_regrid_loc: <code class=\"docutils literal notranslate\"><span class=\"pre\">/glade/scratch/${user}/ADF/regrid</span></code></p>\n",
    "<p>cam_diag_plot_loc: <code class=\"docutils literal notranslate\"><span class=\"pre\">/glade/scratch/${user}/ADF/plots</span></code></p>\n",
    "<p>use_defaults: <code class=\"docutils literal notranslate\"><span class=\"pre\">false</span></code></p>\n",
    "\n",
    "    use_defaults: <code class=\"docutils literal notranslate\"><span class=\"pre\">false</span></code>\n",
    "\n",
    "##### diag_cam_climo\n",
    "<p>cam_case_name</p>\n",
    "<p>cam_hist_loc</p>\n",
    "<p>cam_climo_loc</p>\n",
    "<p>start_year</p>\n",
    "<p>end_year</p>\n",
    "<p>cam_ts_loc</p>\n",
    "\n",
    "##### diag_cam_baseline_climo\n",
    "<p>cam_case_name</p>\n",
    "<p>cam_hist_loc</p>\n",
    "<p>cam_climo_loc</p>\n",
    "<p>start_year</p>\n",
    "<p>end_year</p>\n",
    "<p>cam_ts_loc</p>"
   ]
  }
 ],
 "metadata": {
  "kernelspec": {
   "display_name": "NPL (conda)",
   "language": "python",
   "name": "npl-conda"
  },
  "language_info": {
   "codemirror_mode": {
    "name": "ipython",
    "version": 3
   },
   "file_extension": ".py",
   "mimetype": "text/x-python",
   "name": "python",
   "nbconvert_exporter": "python",
   "pygments_lexer": "ipython3",
   "version": "3.8.13"
  }
 },
 "nbformat": 4,
 "nbformat_minor": 5
}
