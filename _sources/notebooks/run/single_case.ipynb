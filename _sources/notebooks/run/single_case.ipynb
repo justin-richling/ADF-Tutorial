{
 "cells": [
  {
   "cell_type": "markdown",
   "id": "63529964-f86d-4ab4-91e8-e061277cf7c4",
   "metadata": {},
   "source": [
    "# Single Case Comparison"
   ]
  },
  {
   "cell_type": "markdown",
   "id": "bf9f642a-a579-49be-b538-6d13a12f0763",
   "metadata": {},
   "source": [
    "You will need to open the config runtime yaml file with your favorite editor and edit the following variables:\n",
    "\n",
    "##### diag_basic_info\n",
    "    \n",
    "<p style=\"margin-top: -5px;\">&ensp; compare_obs: <code class=\"docutils literal notranslate\"><span class=\"pre\">false</span></code></p>\n",
    "<p style=\"margin-top: -5px;\">&ensp; cam_regrid_loc: <code class=\"docutils literal notranslate\"><span class=\"pre\">/glade/scratch/${user}/ADF/regrid</span></code></p>\n",
    "<p style=\"margin-top: -5px;\">&ensp; cam_diag_plot_loc: <code class=\"docutils literal notranslate\"><span class=\"pre\">/glade/scratch/${user}/ADF/plots</span></code></p>\n",
    "<p style=\"margin-top: -5px;\">&ensp; use_defaults: <code class=\"docutils literal notranslate\"><span class=\"pre\">false</span></code></p>\n",
    "\n",
    "    use_defaults: false\n",
    "    \n",
    "    cam_diag_plot_loc: /glade/scratch/${user}/ADF/plots\n",
    "\n",
    "##### diag_cam_climo\n",
    "<p style=\"margin-top: -5px;\">&ensp; cam_case_name: <code class=\"docutils literal notranslate\"><span class=\"pre\">f.cam6_3_106.FLTHIST_v0a.ne30.dcs_effgw_rdg.001</span></code></p>\n",
    "<p style=\"margin-top: -5px;\">&ensp; cam_hist_loc: <code class=\"docutils literal notranslate\"><span class=\"pre\">/glade/scratch/richling/ADF/tutorials/data/f.cam6_3_106.FLTHIST_v0a.ne30.dcs_effgw_rdg.001</span></code></p>\n",
    "<p style=\"margin-top: -5px;\">&ensp; cam_climo_loc: <code class=\"docutils literal notranslate\"><span class=\"pre\">false</span></code></p>\n",
    "<p style=\"margin-top: -5px;\">&ensp; start_year: <code class=\"docutils literal notranslate\"><span class=\"pre\">false</span></code></p>\n",
    "<p style=\"margin-top: -5px;\">&ensp; end_year: <code class=\"docutils literal notranslate\"><span class=\"pre\">false</span></code></p>\n",
    "<p style=\"margin-top: -5px;\">&ensp; cam_ts_loc: <code class=\"docutils literal notranslate\"><span class=\"pre\">false</span></code></p>\n",
    "\n",
    "##### diag_cam_baseline_climo\n",
    "<p style=\"margin-top: -5px;\">&ensp; cam_case_name: <code class=\"docutils literal notranslate\"><span class=\"pre\">false</span></code></p>\n",
    "<p style=\"margin-top: -5px;\">&ensp; cam_hist_loc: <code class=\"docutils literal notranslate\"><span class=\"pre\">false</span></code></p>\n",
    "<p style=\"margin-top: -5px;\">&ensp; cam_climo_loc: <code class=\"docutils literal notranslate\"><span class=\"pre\">false</span></code></p>\n",
    "<p style=\"margin-top: -5px;\">&ensp; start_year: <code class=\"docutils literal notranslate\"><span class=\"pre\">false</span></code></p>\n",
    "<p style=\"margin-top: -5px;\">&ensp; end_year: <code class=\"docutils literal notranslate\"><span class=\"pre\">false</span></code></p>\n",
    "<p style=\"margin-top: -5px;\">&ensp; cam_ts_loc: <code class=\"docutils literal notranslate\"><span class=\"pre\">false</span></code></p>"
   ]
  },
  {
   "cell_type": "markdown",
   "id": "5c9c8eba-286b-4b60-a0c0-43d968331ed6",
   "metadata": {},
   "source": [
    "<section id=\"sidebars-within-content\">\n",
    "<h3>Sidebars within content<a class=\"headerlink\" href=\"#sidebars-within-content\" title=\"Permalink to this heading\">#</a></h3>\n",
    "<aside class=\"sidebar\">\n",
    "<p class=\"sidebar-title\">Here is some sidebar content</p>\n",
    "<p>It spans a bit of your main content, as well as the margin, as seen by the\n",
    "note block below:</p>\n",
    "<div class=\"admonition note\">\n",
    "<p class=\"admonition-title\">Note</p>\n",
    "<p>Here’s a note block within the sidebar!</p>\n",
    "</div>\n",
    "</aside>\n",
    "<p>If you use a sidebar within your content, the sidebar will stay in-line with your page’s content. However, it will be\n",
    "placed to the right, allowing your content to wrap around it. This prevents\n",
    "the sidebar from breaking up the flow of your content. This is particularly\n",
    "useful if you’ve got tall-and-long blocks of content or images that you would\n",
    "like to provide context to throughout your content.</p>\n",
    "<p>To add a sidebar to your content, use the following syntax:</p>\n",
    "<div class=\"highlight-md notranslate\"><div class=\"highlight\"><pre id=\"codecell1\"><span></span>```{sidebar} My sidebar title\n",
    "My sidebar content\n",
    "```\n",
    "</pre><button class=\"copybtn o-tooltip--left\" data-tooltip=\"Copy\" data-clipboard-target=\"#codecell1\">\n",
    "      <svg xmlns=\"http://www.w3.org/2000/svg\" class=\"icon icon-tabler icon-tabler-copy\" width=\"44\" height=\"44\" viewBox=\"0 0 24 24\" stroke-width=\"1.5\" stroke=\"#000000\" fill=\"none\" stroke-linecap=\"round\" stroke-linejoin=\"round\">\n",
    "  <title>Copy to clipboard</title>\n",
    "  <path stroke=\"none\" d=\"M0 0h24v24H0z\" fill=\"none\"></path>\n",
    "  <rect x=\"8\" y=\"8\" width=\"12\" height=\"12\" rx=\"2\"></rect>\n",
    "  <path d=\"M16 8v-2a2 2 0 0 0 -2 -2h-8a2 2 0 0 0 -2 2v8a2 2 0 0 0 2 2h2\"></path>\n",
    "</svg>\n",
    "    </button></div>\n",
    "</div>\n",
    "</section>"
   ]
  }
 ],
 "metadata": {
  "kernelspec": {
   "display_name": "NPL (conda)",
   "language": "python",
   "name": "npl-conda"
  },
  "language_info": {
   "codemirror_mode": {
    "name": "ipython",
    "version": 3
   },
   "file_extension": ".py",
   "mimetype": "text/x-python",
   "name": "python",
   "nbconvert_exporter": "python",
   "pygments_lexer": "ipython3",
   "version": "3.8.13"
  }
 },
 "nbformat": 4,
 "nbformat_minor": 5
}
