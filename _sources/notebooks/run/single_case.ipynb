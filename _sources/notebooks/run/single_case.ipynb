{
 "cells": [
  {
   "cell_type": "markdown",
   "id": "a2f87964-5ad7-43b1-a57a-3c6643ac5010",
   "metadata": {},
   "source": [
    "# Single Case"
   ]
  }
 ],
 "metadata": {
  "kernelspec": {
   "display_name": "Python 3 (ipykernel)",
   "language": "python",
   "name": "python3"
  },
  "language_info": {
   "codemirror_mode": {
    "name": "ipython",
    "version": 3
   },
   "file_extension": ".py",
   "mimetype": "text/x-python",
   "name": "python",
   "nbconvert_exporter": "python",
   "pygments_lexer": "ipython3",
   "version": "3.9.12"
  }
 },
 "nbformat": 4,
 "nbformat_minor": 5
}
