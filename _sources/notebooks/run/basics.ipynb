{
 "cells": [
  {
   "cell_type": "markdown",
   "id": "b650d423-ec58-44bd-aa05-a177f16d3efa",
   "metadata": {},
   "source": [
    "# Running ADF Basics\n",
    "\n",
    "Now that the environment is setup with the required modules loaded and the ADF cloned let's put it all together and do a CAM vs CAM comparison!"
   ]
  },
  {
   "cell_type": "markdown",
   "id": "b880e21b-26d6-47c9-a759-532aff7fe31d",
   "metadata": {},
   "source": [
    "## How to run the ADF\n",
    "\n",
    "There are two ways to run the ADF, the first and most stright forward is runnning the ADF in the terminal and the second is via Jupyter\n",
    "\n",
    "## Types of ADF Comparisons\n",
    "\n",
    "There are a couple different ADF runs one can do:\n",
    "\n",
    "<p>Single Case Comparison</p>\n",
    "<p>Multiple Case Comparison**</p>\n",
    "<p style=\"margin-top: -15px;\">&ensp; ** In progress, will not be part of this tutorial currently :(</p>\n"
   ]
  },
  {
   "cell_type": "markdown",
   "id": "c93da702-5156-4145-9c43-289cae7482a8",
   "metadata": {},
   "source": [
    "### Single Case Comparison\n",
    "\n",
    "By default the ADF will run a single CAM test simulation (experiment) case vs baseline (control) case."
   ]
  },
  {
   "cell_type": "markdown",
   "id": "d23c179c-fd5b-4fc9-bb6d-0619c19466ee",
   "metadata": {},
   "source": [
    "##### Available Comparison Cases\n",
    "\n",
    "There are essentially 3 types of comparisons:\n",
    "\n",
    "* CAM vs CAM\n",
    "* CAM vs Observations/Reanalysis\n",
    "* CAM vs CMIP\n",
    "\n",
    "And each have their own requirements for the run-time config file (eg `config_cam_baseline_example`). The requirements for each type of comparison will be addressed in their respective sections of this tutorial."
   ]
  },
  {
   "cell_type": "markdown",
   "id": "e26a73c9-d5df-4bdb-bc6b-160ca3f3edbd",
   "metadata": {},
   "source": [
    "---"
   ]
  },
  {
   "cell_type": "markdown",
   "id": "5741c4ce-1306-4aa4-b65f-a1268a5f9658",
   "metadata": {},
   "source": [
    "First step: Setup the Run-time config file - `config_cam_baseline_example`\n",
    "\n",
    "Open `config_cam_baseline_example` in your favorite editor"
   ]
  },
  {
   "cell_type": "markdown",
   "id": "0d6c3dff-aaaf-4da4-858a-628711cd53fc",
   "metadata": {},
   "source": [
    "#### CAM vs CAM\n",
    "\n"
   ]
  },
  {
   "cell_type": "markdown",
   "id": "5870515b-5af2-4c08-88f7-56bd5b9c4134",
   "metadata": {},
   "source": []
  },
  {
   "cell_type": "markdown",
   "id": "9aa2e1e2-7376-4102-bd6a-fd1e841f9389",
   "metadata": {},
   "source": []
  }
 ],
 "metadata": {
  "kernelspec": {
   "display_name": "NPL-3.7.9",
   "language": "python",
   "name": "npl-3.7.9"
  },
  "language_info": {
   "codemirror_mode": {
    "name": "ipython",
    "version": 3
   },
   "file_extension": ".py",
   "mimetype": "text/x-python",
   "name": "python",
   "nbconvert_exporter": "python",
   "pygments_lexer": "ipython3",
   "version": "3.7.9"
  }
 },
 "nbformat": 4,
 "nbformat_minor": 5
}
