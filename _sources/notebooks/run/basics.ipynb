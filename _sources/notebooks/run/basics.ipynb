{
 "cells": [
  {
   "cell_type": "markdown",
   "id": "b650d423-ec58-44bd-aa05-a177f16d3efa",
   "metadata": {},
   "source": [
    "# Running ADF Basics"
   ]
  },
  {
   "cell_type": "markdown",
   "id": "c93da702-5156-4145-9c43-289cae7482a8",
   "metadata": {},
   "source": [
    "### Single Case Comparison\n",
    "\n",
    "<p>Let's now put it all together and do a CAM vs CAM comparison.</p>\n",
    "<p>Revisit (or reopen) your copy of the runtime configure file (ie )</p>"
   ]
  },
  {
   "cell_type": "markdown",
   "id": "d23c179c-fd5b-4fc9-bb6d-0619c19466ee",
   "metadata": {},
   "source": [
    "##### Available Comparison Cases\n",
    "\n",
    "There are essentially 3 types of comparisons:\n",
    "\n",
    "* CAM vs CAM\n",
    "* CAM vs Observations/Reanalysis\n",
    "* CAM vs CMIP\n",
    "\n",
    "And each have their own requirements for the run-time config file (eg `config_cam_baseline_example`)"
   ]
  },
  {
   "cell_type": "markdown",
   "id": "98716eaa-b8a8-4d34-950e-42f945c977ab",
   "metadata": {},
   "source": []
  }
 ],
 "metadata": {
  "kernelspec": {
   "display_name": "NPL (conda)",
   "language": "python",
   "name": "npl-conda"
  },
  "language_info": {
   "codemirror_mode": {
    "name": "ipython",
    "version": 3
   },
   "file_extension": ".py",
   "mimetype": "text/x-python",
   "name": "python",
   "nbconvert_exporter": "python",
   "pygments_lexer": "ipython3",
   "version": "3.8.13"
  }
 },
 "nbformat": 4,
 "nbformat_minor": 5
}
