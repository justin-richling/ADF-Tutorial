{
 "cells": [
  {
   "cell_type": "markdown",
   "id": "0a8d9910",
   "metadata": {},
   "source": [
    "# Available Comparison Cases\n",
    "\n",
    "There are essentially 3 types of comparisons:\n",
    "\n",
    "* CAM vs CAM\n",
    "* CAM vs Observations/Reanalysis\n",
    "* CAM vs CMIP"
   ]
  },
  {
   "cell_type": "code",
   "execution_count": null,
   "id": "3b9ed14e",
   "metadata": {},
   "outputs": [],
   "source": []
  }
 ],
 "metadata": {
  "kernelspec": {
   "display_name": "Python 3 (ipykernel)",
   "language": "python",
   "name": "python3"
  },
  "language_info": {
   "codemirror_mode": {
    "name": "ipython",
    "version": 3
   },
   "file_extension": ".py",
   "mimetype": "text/x-python",
   "name": "python",
   "nbconvert_exporter": "python",
   "pygments_lexer": "ipython3",
   "version": "3.9.7"
  }
 },
 "nbformat": 4,
 "nbformat_minor": 5
}
